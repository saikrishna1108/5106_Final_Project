{
 "cells": [
  {
   "cell_type": "code",
   "execution_count": 1,
   "id": "fcf4b231-664f-42c5-a43f-2705015428ad",
   "metadata": {},
   "outputs": [],
   "source": [
    "import os\n",
    "import torch\n",
    "import torch.nn as nn\n",
    "import torch.optim as optim\n",
    "from torch.utils.data import DataLoader, Dataset\n",
    "import matplotlib.pyplot as plt\n",
    "\n",
    "# Dataset Class\n",
    "class SpeedDataset(Dataset):\n",
    "    def __init__(self, directory, sequence_length=5):\n",
    "        self.data = []\n",
    "        self.sequence_length = sequence_length\n",
    "        self.preprocess_data(directory)\n",
    "\n",
    "    def preprocess_data(self, directory):\n",
    "        for filename in os.listdir(directory):\n",
    "            if filename.endswith('.txt'):\n",
    "                speed = float(filename.split('_')[-1].replace('.txt', ''))\n",
    "                filepath = os.path.join(directory, filename)\n",
    "                with open(filepath, 'r') as file:\n",
    "                    track_data = {}\n",
    "                    for line in file:\n",
    "                        frame, track_id, x1, y1, x2, y2 = map(float, line.strip().split(',')[:6])\n",
    "                        if track_id not in track_data:\n",
    "                            track_data[track_id] = []\n",
    "                        track_data[track_id].append([x1,y1,x2,y2,(x1+x2)/2, (y1+y2)/2])\n",
    "\n",
    "                    for track_id, frames in track_data.items():\n",
    "                        if len(frames) >= self.sequence_length:\n",
    "                            features = []\n",
    "                            for i in range(1, len(frames)):\n",
    "                                current_frame = frames[i]\n",
    "                                previous_frame = frames[i-1]\n",
    "                                data_d = []\n",
    "                                for i in range(4):\n",
    "                                    data_d.append(current_frame[i])\n",
    "                                for j in range(4,6):\n",
    "                                    data_d.append(current_frame[j] - previous_frame[j])\n",
    "                                features.append(data_d)\n",
    "                            for i in range(len(features) - self.sequence_length + 1):\n",
    "                                sequence = features[i:i + self.sequence_length]\n",
    "                                self.data.append((sequence, speed))\n",
    "\n",
    "    def __len__(self):\n",
    "        return len(self.data)\n",
    "\n",
    "    def __getitem__(self, idx):\n",
    "        inputs, output = self.data[idx]\n",
    "        return torch.tensor(inputs, dtype=torch.float32), torch.tensor(output, dtype=torch.float32)\n",
    "\n",
    "\n"
   ]
  },
  {
   "cell_type": "code",
   "execution_count": 3,
   "id": "5e5cf48b-065a-4979-b7b6-c35040571f59",
   "metadata": {},
   "outputs": [],
   "source": [
    "train_dataset = SpeedDataset('outputs', sequence_length=5)\n",
    "train_loader = DataLoader(train_dataset, batch_size=64, shuffle=True)\n",
    "val_dataset = SpeedDataset('test', sequence_length=5)\n",
    "val_loader = DataLoader(val_dataset, batch_size=12, shuffle=False)\n"
   ]
  },
  {
   "cell_type": "code",
   "execution_count": 5,
   "id": "9f367742-2bbc-4c86-abd7-0118f29c99a7",
   "metadata": {},
   "outputs": [
    {
     "data": {
      "text/plain": [
       "(tensor([[ 6.1342e+02,  4.6990e+02,  6.7616e+02,  5.1439e+02,  1.4231e+00,\n",
       "          -1.6779e+00],\n",
       "         [ 6.1350e+02,  4.6821e+02,  6.7820e+02,  5.1529e+02,  1.0601e+00,\n",
       "          -3.9218e-01],\n",
       "         [ 6.1429e+02,  4.6764e+02,  6.7902e+02,  5.1676e+02,  8.0511e-01,\n",
       "           4.4865e-01],\n",
       "         [ 6.1499e+02,  4.6733e+02,  6.8166e+02,  5.1825e+02,  1.6664e+00,\n",
       "           5.9392e-01],\n",
       "         [ 6.1576e+02,  4.6674e+02,  6.8360e+02,  5.1932e+02,  1.3587e+00,\n",
       "           2.3386e-01]]),\n",
       " tensor(101.))"
      ]
     },
     "execution_count": 5,
     "metadata": {},
     "output_type": "execute_result"
    }
   ],
   "source": [
    "train_dataset[8]"
   ]
  }
 ],
 "metadata": {
  "kernelspec": {
   "display_name": "Python 3 (ipykernel)",
   "language": "python",
   "name": "python3"
  },
  "language_info": {
   "codemirror_mode": {
    "name": "ipython",
    "version": 3
   },
   "file_extension": ".py",
   "mimetype": "text/x-python",
   "name": "python",
   "nbconvert_exporter": "python",
   "pygments_lexer": "ipython3",
   "version": "3.9.0"
  }
 },
 "nbformat": 4,
 "nbformat_minor": 5
}
