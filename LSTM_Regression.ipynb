{
 "cells": [
  {
   "cell_type": "code",
   "execution_count": 17,
   "id": "6ff2fe32-9778-407b-a3d6-43b0a1366403",
   "metadata": {},
   "outputs": [],
   "source": [
    "import os\n",
    "import torch\n",
    "import torch.nn as nn\n",
    "import torch.optim as optim\n",
    "from torch.utils.data import DataLoader, Dataset\n",
    "import matplotlib.pyplot as plt\n",
    "import math\n",
    "# Dataset Class\n",
    "class SpeedDataset(Dataset):\n",
    "    def __init__(self, directory, sequence_length=5):\n",
    "        self.data = []\n",
    "        self.sequence_length = sequence_length\n",
    "        self.preprocess_data(directory)\n",
    "\n",
    "    def preprocess_data(self, directory):\n",
    "        for filename in os.listdir(directory):\n",
    "            if filename.endswith('.txt'):\n",
    "                speed = float(filename.split('_')[-1].replace('.txt', ''))\n",
    "                filepath = os.path.join(directory, filename)\n",
    "                with open(filepath, 'r') as file:\n",
    "                    track_data = {}\n",
    "                    for line in file:\n",
    "                        frame, track_id, x1, y1, x2, y2 = map(float, line.strip().split(',')[:6])\n",
    "                        if track_id not in track_data:\n",
    "                            track_data[track_id] = []\n",
    "                        track_data[track_id].append([x1,y1,x2,y2,(x1+x2)/2, (y1+y2)/2])\n",
    "\n",
    "                    for track_id, frames in track_data.items():\n",
    "                        if len(frames) >= self.sequence_length:\n",
    "                            features = []\n",
    "                            for i in range(1, len(frames)):\n",
    "                                current_frame = frames[i]\n",
    "                                previous_frame = frames[i-1]\n",
    "                                data_d = []\n",
    "                                distance = 0\n",
    "                                for i in range(4):\n",
    "                                    data_d.append(abs(current_frame[i] - previous_frame[i]))\n",
    "                                for j in range(4,6):\n",
    "                                    distance = ((current_frame[j] - previous_frame[j])**2) + distance\n",
    "                                data_d.append(math.sqrt(distance))\n",
    "                                features.append(data_d)\n",
    "                            for i in range(len(features) - self.sequence_length + 1):\n",
    "                                sequence = features[i:i + self.sequence_length]\n",
    "                                self.data.append((sequence, speed))\n",
    "\n",
    "    def __len__(self):\n",
    "        return len(self.data)\n",
    "\n",
    "    def __getitem__(self, idx):\n",
    "        inputs, output = self.data[idx]\n",
    "        return torch.tensor(inputs, dtype=torch.float32), torch.tensor(output, dtype=torch.float32)\n",
    "\n",
    "\n"
   ]
  },
  {
   "cell_type": "code",
   "execution_count": 18,
   "id": "c1009e48-d61c-4e61-b3fa-0b1e75737109",
   "metadata": {},
   "outputs": [],
   "source": [
    "import torch\n",
    "import torch.nn as nn\n",
    "\n",
    "class SpeedPredictor(nn.Module):\n",
    "    def __init__(self, sequence_length, feature_size, embedding_dim, hidden_dim, output_size):\n",
    "        super(SpeedPredictor, self).__init__()\n",
    "        self.conv1 = nn.Conv1d(in_channels=feature_size, out_channels=embedding_dim, kernel_size=1)\n",
    "        self.lstm = nn.LSTM(embedding_dim, hidden_dim, batch_first=True)\n",
    "        self.fc2 = nn.Linear(hidden_dim, output_size)\n",
    "        self.relu = nn.ReLU()\n",
    "\n",
    "    def forward(self, x):\n",
    "        x = x.permute(0, 2, 1)\n",
    "        x = self.conv1(x)\n",
    "        x = x.permute(0, 2, 1)\n",
    "        x, _ = self.lstm(x)\n",
    "        x = x[:, -1, :]\n",
    "        return self.fc2(x)\n"
   ]
  },
  {
   "cell_type": "code",
   "execution_count": 19,
   "id": "4fc0a429-d2ff-499b-9b82-241c81774d01",
   "metadata": {},
   "outputs": [],
   "source": [
    "# Parameters\n",
    "sequence_length = 5\n",
    "feature_size = 5\n",
    "embedding_dim = 128\n",
    "hidden_dim = 64\n",
    "output_size = 1\n",
    "\n",
    "# Initialize model, loss, and optimizer\n",
    "model = SpeedPredictor(sequence_length, feature_size, embedding_dim, hidden_dim, output_size)\n",
    "criterion = nn.MSELoss()\n",
    "optimizer = optim.Adam(model.parameters(), lr=0.001)\n"
   ]
  },
  {
   "cell_type": "code",
   "execution_count": 20,
   "id": "bc80739b-e924-40df-ba55-22801c0694a7",
   "metadata": {},
   "outputs": [],
   "source": [
    "def train_and_validate(model, train_loader, val_loader, criterion, optimizer, epochs):\n",
    "    train_losses = []\n",
    "    val_losses = []\n",
    "\n",
    "    for epoch in range(epochs):\n",
    "        # Training\n",
    "        model.train()\n",
    "        total_train_loss = 0\n",
    "        for inputs, speeds in train_loader:\n",
    "            optimizer.zero_grad()\n",
    "            outputs = model(inputs)\n",
    "            outputs = outputs.squeeze()  # Squeeze to remove the extra dimension\n",
    "\n",
    "            # Ensure output and speeds have the same dimensions\n",
    "            if outputs.shape != speeds.shape:\n",
    "                outputs = outputs[:speeds.size(0)]  # Adjust output to match speeds size\n",
    "\n",
    "            loss = criterion(outputs, speeds)\n",
    "            loss.backward()\n",
    "            optimizer.step()\n",
    "            total_train_loss += loss.item()\n",
    "        avg_train_loss = total_train_loss / len(train_loader)\n",
    "        train_losses.append(avg_train_loss)\n",
    "\n",
    "        # Validation\n",
    "        model.eval()\n",
    "        total_val_loss = 0\n",
    "        with torch.no_grad():\n",
    "            for inputs, speeds in val_loader:\n",
    "                outputs = model(inputs)\n",
    "                outputs = outputs.squeeze()  # Squeeze to remove the extra dimension\n",
    "\n",
    "                # Ensure output and speeds have the same dimensions\n",
    "                if outputs.shape != speeds.shape:\n",
    "                    outputs = outputs[:speeds.size(0)]  # Adjust output to match speeds size\n",
    "\n",
    "                loss = torch.sqrt(criterion(outputs, speeds))\n",
    "                total_val_loss += loss.item()\n",
    "        avg_val_loss = total_val_loss / len(val_loader)\n",
    "        val_losses.append(avg_val_loss)\n",
    "        if epoch % 10 ==0:\n",
    "            print(f'Epoch {epoch+1}/{epochs}, MSE training Loss: {avg_train_loss:.4f}, RMSE validation Loss: {avg_val_loss:.4f}')\n",
    "\n",
    "    return train_losses, val_losses\n"
   ]
  },
  {
   "cell_type": "code",
   "execution_count": 21,
   "id": "8694675c-5004-42c4-9f4a-a15c8ab23d32",
   "metadata": {},
   "outputs": [
    {
     "name": "stdout",
     "output_type": "stream",
     "text": [
      "Epoch 1/100, MSE training Loss: 2113.7651, RMSE validation Loss: 30.5414\n",
      "Epoch 11/100, MSE training Loss: 392.4566, RMSE validation Loss: 19.5349\n",
      "Epoch 21/100, MSE training Loss: 348.1898, RMSE validation Loss: 18.5578\n",
      "Epoch 31/100, MSE training Loss: 314.9834, RMSE validation Loss: 18.3628\n",
      "Epoch 41/100, MSE training Loss: 280.1985, RMSE validation Loss: 18.3858\n",
      "Epoch 51/100, MSE training Loss: 247.6757, RMSE validation Loss: 18.6103\n",
      "Epoch 61/100, MSE training Loss: 215.4883, RMSE validation Loss: 19.0151\n",
      "Epoch 71/100, MSE training Loss: 189.4813, RMSE validation Loss: 19.5889\n",
      "Epoch 81/100, MSE training Loss: 171.9261, RMSE validation Loss: 19.9822\n",
      "Epoch 91/100, MSE training Loss: 153.3850, RMSE validation Loss: 20.2120\n"
     ]
    },
    {
     "data": {
      "image/png": "[encoded data removed]",
      "text/plain": [
       "<Figure size 1000x500 with 1 Axes>"
      ]
     },
     "metadata": {},
     "output_type": "display_data"
    }
   ],
   "source": [
    "# Loaders\n",
    "train_dataset = SpeedDataset('outputs', sequence_length)\n",
    "train_loader = DataLoader(train_dataset, batch_size=32, shuffle=True)\n",
    "val_dataset = SpeedDataset('test', sequence_length)\n",
    "val_loader = DataLoader(val_dataset, batch_size=12, shuffle=False)\n",
    "\n",
    "# Training the model\n",
    "epochs = 100\n",
    "train_losses, val_losses = train_and_validate(model, train_loader, val_loader, criterion, optimizer, epochs)\n",
    "\n",
    "# Plotting training and validation loss\n",
    "plt.figure(figsize=(10, 5))\n",
    "plt.plot(range(1, epochs+1), train_losses, label='MSE Training Loss')\n",
    "plt.plot(range(1, epochs+1), val_losses, label='RMSE Validation Loss')\n",
    "plt.xlabel('Epochs')\n",
    "plt.ylabel('Loss')\n",
    "plt.title('Training and Validation Loss')\n",
    "plt.legend()\n",
    "plt.show()"
   ]
  },
  {
   "cell_type": "code",
   "execution_count": 25,
   "id": "46f8286f-f9e2-4d94-9ded-0ff5bfabb256",
   "metadata": {},
   "outputs": [],
   "source": [
    "\n",
    "torch.save(model, 'lstm_Regression_100.pth')\n"
   ]
  },
  {
   "cell_type": "code",
   "execution_count": 26,
   "id": "1bf05010-c4f3-4a52-aa20-a3fe36b93441",
   "metadata": {},
   "outputs": [
    {
     "data": {
      "text/plain": [
       "SpeedPredictor(\n",
       "  (conv1): Conv1d(5, 128, kernel_size=(1,), stride=(1,))\n",
       "  (lstm): LSTM(128, 64, batch_first=True)\n",
       "  (fc2): Linear(in_features=64, out_features=1, bias=True)\n",
       "  (relu): ReLU()\n",
       ")"
      ]
     },
     "execution_count": 26,
     "metadata": {},
     "output_type": "execute_result"
    }
   ],
   "source": [
    "# Load the entire model\n",
    "model = torch.load('lstm_Regression_100.pth')\n",
    "model.eval()  # Set the model to evaluation mode\n"
   ]
  },
  {
   "cell_type": "code",
   "execution_count": 27,
   "id": "e5642f79-1481-4468-96cf-1028deeed46f",
   "metadata": {},
   "outputs": [
    {
     "name": "stdout",
     "output_type": "stream",
     "text": [
      "Predicted: 83.0751, Actual: 93.0000\n",
      "Predicted: 71.1242, Actual: 93.0000\n",
      "Predicted: 72.5674, Actual: 33.0000\n",
      "Predicted: 92.4703, Actual: 43.0000\n",
      "Predicted: 41.6864, Actual: 40.0000\n",
      "Predicted: 57.3405, Actual: 40.0000\n",
      "Predicted: 68.7536, Actual: 63.0000\n",
      "Predicted: 62.6611, Actual: 55.0000\n",
      "Predicted: 46.7433, Actual: 40.0000\n",
      "Predicted: 79.8549, Actual: 84.0000\n",
      "Predicted: 72.8235, Actual: 73.0000\n",
      "Predicted: 68.8892, Actual: 100.0000\n",
      "Predicted: 48.4227, Actual: 103.0000\n",
      "Predicted: 37.8834, Actual: 65.0000\n",
      "Predicted: 63.6566, Actual: 33.0000\n",
      "Predicted: 52.9663, Actual: 73.0000\n",
      "Predicted: 59.0090, Actual: 76.0000\n",
      "Predicted: 49.8279, Actual: 40.0000\n",
      "Predicted: 50.7977, Actual: 103.0000\n",
      "Predicted: 51.9066, Actual: 55.0000\n",
      "Predicted: 26.7740, Actual: 82.0000\n",
      "Predicted: 48.7264, Actual: 93.0000\n",
      "Predicted: 85.9979, Actual: 63.0000\n",
      "Predicted: 66.2005, Actual: 43.0000\n",
      "Predicted: 82.6423, Actual: 73.0000\n",
      "Predicted: 47.2632, Actual: 100.0000\n",
      "Predicted: 80.4724, Actual: 92.0000\n",
      "Predicted: 68.6942, Actual: 93.0000\n",
      "Predicted: 78.9985, Actual: 73.0000\n",
      "Predicted: 86.4640, Actual: 63.0000\n"
     ]
    }
   ],
   "source": [
    "import random\n",
    "def predict_and_compare(model, test_loader):\n",
    "    model.eval()  # Ensure the model is in evaluation mode\n",
    "    predictions = []\n",
    "    actuals = []\n",
    "    with torch.no_grad():  # No need to track gradients\n",
    "        for inputs, targets in test_loader:\n",
    "            outputs = model(inputs)\n",
    "            predictions.extend(outputs.squeeze().tolist())\n",
    "            actuals.extend(targets.tolist())  # Collect actual target values\n",
    "    return predictions, actuals\n",
    "\n",
    "# Assuming val_loader is properly defined and contains test data\n",
    "predictions, actuals = predict_and_compare(model, val_loader)\n",
    "\n",
    "def print_random_predictions(predictions, actuals, num_samples=30):\n",
    "    if len(predictions) < num_samples:\n",
    "        num_samples = len(predictions)  # Adjust sample size if predictions are fewer than requested\n",
    "\n",
    "    # Get random sample indices\n",
    "    sample_indices = random.sample(range(len(predictions)), num_samples)\n",
    "\n",
    "    # Print the randomly selected predictions and their actual values\n",
    "    for idx in sample_indices:\n",
    "        print(f\"Predicted: {predictions[idx]:.4f}, Actual: {actuals[idx]:.4f}\")\n",
    "\n",
    "# Assuming you have already executed the predict_and_compare function\n",
    "# predictions, actuals = predict_and_compare(model, val_loader)\n",
    "\n",
    "# Now print randomly selected 30 predictions and their actual values\n",
    "print_random_predictions(predictions, actuals, 30)\n",
    "\n"
   ]
  }
 ],
 "metadata": {
  "kernelspec": {
   "display_name": "Python 3 (ipykernel)",
   "language": "python",
   "name": "python3"
  },
  "language_info": {
   "codemirror_mode": {
    "name": "ipython",
    "version": 3
   },
   "file_extension": ".py",
   "mimetype": "text/x-python",
   "name": "python",
   "nbconvert_exporter": "python",
   "pygments_lexer": "ipython3",
   "version": "3.9.0"
  }
 },
 "nbformat": 4,
 "nbformat_minor": 5
}
