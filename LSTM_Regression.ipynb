{
 "cells": [
  {
   "cell_type": "code",
   "execution_count": 124,
   "id": "6ff2fe32-9778-407b-a3d6-43b0a1366403",
   "metadata": {},
   "outputs": [],
   "source": [
    "import os\n",
    "import torch\n",
    "import torch.nn as nn\n",
    "import torch.optim as optim\n",
    "from torch.utils.data import DataLoader, Dataset\n",
    "import matplotlib.pyplot as plt\n",
    "import math\n",
    "# Dataset Class\n",
    "class SpeedDataset(Dataset):\n",
    "    def __init__(self, directory, sequence_length=5):\n",
    "        self.data = []\n",
    "        self.sequence_length = sequence_length\n",
    "        self.preprocess_data(directory)\n",
    "\n",
    "    def preprocess_data(self, directory):\n",
    "        for filename in os.listdir(directory):\n",
    "            if filename.endswith('.txt'):\n",
    "                speed = float(filename.split('_')[-1].replace('.txt', ''))\n",
    "                filepath = os.path.join(directory, filename)\n",
    "                with open(filepath, 'r') as file:\n",
    "                    track_data = {}\n",
    "                    for line in file:\n",
    "                        frame, track_id, x1, y1, x2, y2 = map(float, line.strip().split(',')[:6])\n",
    "                        if track_id not in track_data:\n",
    "                            track_data[track_id] = []\n",
    "                        track_data[track_id].append([x1,y1,x2,y2,(x1+x2)/2, (y1+y2)/2])\n",
    "\n",
    "                    for track_id, frames in track_data.items():\n",
    "                        if len(frames) >= self.sequence_length:\n",
    "                            features = []\n",
    "                            for i in range(1, len(frames)):\n",
    "                                current_frame = frames[i]\n",
    "                                previous_frame = frames[i-1]\n",
    "                                data_d = []\n",
    "                                distance = 0\n",
    "                                distance1 = 0\n",
    "                                distance2 = 0\n",
    "                                for i in range(4):\n",
    "                                    data_d.append(abs(current_frame[i] - previous_frame[i]))\n",
    "                                for j in range(4,6):\n",
    "                                    distance = ((current_frame[j] - previous_frame[j])**2) + distance\n",
    "                                for j in range(0,2):\n",
    "                                    distance1 = ((current_frame[j] - previous_frame[j])**2) + distance1\n",
    "                                for j in range(2,4):\n",
    "                                    distance2 = ((current_frame[j] - previous_frame[j])**2) + distance2\n",
    "                                data_d.append(math.sqrt(distance))\n",
    "                                data_d.append(math.sqrt(distance1))\n",
    "                                data_d.append(math.sqrt(distance2))\n",
    "                                features.append(data_d)\n",
    "                            for i in range(len(features) - self.sequence_length + 1):\n",
    "                                sequence = features[i:i + self.sequence_length]\n",
    "                                self.data.append((sequence, speed))\n",
    "\n",
    "    def __len__(self):\n",
    "        return len(self.data)\n",
    "\n",
    "    def __getitem__(self, idx):\n",
    "        inputs, output = self.data[idx]\n",
    "        return torch.tensor(inputs, dtype=torch.float32), torch.tensor(output, dtype=torch.float32)\n",
    "\n",
    "\n"
   ]
  },
  {
   "cell_type": "code",
   "execution_count": 125,
   "id": "dc3841e3-dbc1-44e3-bafe-a354d368d755",
   "metadata": {},
   "outputs": [
    {
     "name": "stdout",
     "output_type": "stream",
     "text": [
      "Using device: cuda\n"
     ]
    }
   ],
   "source": [
    "import torch\n",
    "\n",
    "# Check for CUDA\n",
    "device = torch.device(\"cuda\" if torch.cuda.is_available() else \"cpu\")\n",
    "print(\"Using device:\", device)\n"
   ]
  },
  {
   "cell_type": "code",
   "execution_count": 151,
   "id": "c1009e48-d61c-4e61-b3fa-0b1e75737109",
   "metadata": {},
   "outputs": [],
   "source": [
    "class SpeedPredictor(nn.Module):\n",
    "    def __init__(self, sequence_length, feature_size, embedding_dim, hidden_dim, output_size):\n",
    "        super(SpeedPredictor, self).__init__()\n",
    "        # First Conv layer to create embeddings\n",
    "        self.conv1 = nn.Conv1d(in_channels=feature_size, out_channels=embedding_dim, kernel_size=1)\n",
    "        # LSTM layer for processing sequences\n",
    "        self.lstm = nn.LSTM(embedding_dim, hidden_dim, batch_first=True, num_layers=2)\n",
    "        # Additional Conv layer for extracting complex features from LSTM outputs\n",
    "        self.conv2 = nn.Conv1d(in_channels=hidden_dim, out_channels=64, kernel_size=1)\n",
    "        # Fully connected layers\n",
    "        self.fc1 = nn.Linear(64, 32)  # Adjust the input features according to the output of conv2\n",
    "        self.relu = nn.ReLU()\n",
    "        self.fc2 = nn.Linear(32, output_size)\n",
    "\n",
    "    def forward(self, x):\n",
    "        x = x.permute(0, 2, 1)  # Prepare for the first conv layer\n",
    "        x = self.conv1(x)\n",
    "        x = x.permute(0, 2, 1)  # Revert for LSTM\n",
    "        x, _ = self.lstm(x)\n",
    "        x = x[:, -1, :]  # Use only the last output of LSTM for further processing\n",
    "        x = x.unsqueeze(2)  # Adjust dimensions for the second conv layer\n",
    "        x = self.conv2(x)\n",
    "        x = x.squeeze(2)  # Flatten the output for FC layers\n",
    "        x = self.fc1(x)\n",
    "        x = self.relu(x)\n",
    "        x = self.fc2(x)\n",
    "        return x\n"
   ]
  },
  {
   "cell_type": "code",
   "execution_count": 152,
   "id": "bc80739b-e924-40df-ba55-22801c0694a7",
   "metadata": {},
   "outputs": [],
   "source": [
    "def train_and_validate(model, train_loader, val_loader, criterion, optimizer,scheduler, epochs):\n",
    "    train_losses = []\n",
    "    val_losses = []\n",
    "\n",
    "    for epoch in range(epochs):\n",
    "        # Training\n",
    "        model.train()\n",
    "        total_train_loss = 0\n",
    "        for inputs, speeds in train_loader:\n",
    "            inputs, speeds = inputs.to(device), speeds.to(device)\n",
    "            optimizer.zero_grad()\n",
    "            outputs = model(inputs)\n",
    "            outputs = outputs.squeeze()  # Squeeze to remove the extra dimension\n",
    "\n",
    "            # Ensure output and speeds have the same dimensions\n",
    "            if outputs.shape != speeds.shape:\n",
    "                outputs = outputs[:speeds.size(0)]  # Adjust output to match speeds size\n",
    "\n",
    "            loss = criterion(outputs, speeds)\n",
    "            loss.backward()\n",
    "            optimizer.step()\n",
    "            total_train_loss += loss.item()\n",
    "        scheduler.step()\n",
    "        avg_train_loss = total_train_loss / len(train_loader)\n",
    "        train_losses.append(avg_train_loss)\n",
    "\n",
    "        # Validation\n",
    "        model.eval()\n",
    "        total_val_loss = 0\n",
    "        with torch.no_grad():\n",
    "            for inputs, speeds in val_loader:\n",
    "                inputs, speeds= inputs.to(device), speeds.to(device)\n",
    "                outputs = model(inputs)\n",
    "                outputs = outputs.squeeze()  # Squeeze to remove the extra dimension\n",
    "\n",
    "                # Ensure output and speeds have the same dimensions\n",
    "                if outputs.shape != speeds.shape:\n",
    "                    outputs = outputs[:speeds.size(0)]  # Adjust output to match speeds size\n",
    "\n",
    "                loss = torch.sqrt(criterion(outputs, speeds))\n",
    "                total_val_loss += loss.item()\n",
    "        avg_val_loss = total_val_loss / len(val_loader)\n",
    "        val_losses.append(avg_val_loss)\n",
    "        if epoch % 10 ==0:\n",
    "            print(f'Epoch {epoch+1}/{epochs}, MSE training Loss: {avg_train_loss:.4f}, RMSE validation Loss: {avg_val_loss:.4f}')\n",
    "\n",
    "    return train_losses, val_losses\n"
   ]
  },
  {
   "cell_type": "code",
   "execution_count": 163,
   "id": "8694675c-5004-42c4-9f4a-a15c8ab23d32",
   "metadata": {},
   "outputs": [
    {
     "name": "stdout",
     "output_type": "stream",
     "text": [
      "Epoch 1/150, MSE training Loss: 685.1328, RMSE validation Loss: 20.7691\n",
      "Epoch 11/150, MSE training Loss: 124.4035, RMSE validation Loss: 10.3232\n",
      "Epoch 21/150, MSE training Loss: 23.2480, RMSE validation Loss: 5.7674\n",
      "Epoch 31/150, MSE training Loss: 11.7951, RMSE validation Loss: 4.7198\n",
      "Epoch 41/150, MSE training Loss: 7.8438, RMSE validation Loss: 3.9475\n",
      "Epoch 51/150, MSE training Loss: 6.5249, RMSE validation Loss: 3.5948\n",
      "Epoch 61/150, MSE training Loss: 4.7353, RMSE validation Loss: 3.7858\n",
      "Epoch 71/150, MSE training Loss: 3.8800, RMSE validation Loss: 3.1091\n",
      "Epoch 81/150, MSE training Loss: 2.9457, RMSE validation Loss: 2.8872\n",
      "Epoch 91/150, MSE training Loss: 3.1400, RMSE validation Loss: 3.0436\n",
      "Epoch 101/150, MSE training Loss: 2.6458, RMSE validation Loss: 2.8449\n",
      "Epoch 111/150, MSE training Loss: 2.4849, RMSE validation Loss: 2.7881\n",
      "Epoch 121/150, MSE training Loss: 1.9549, RMSE validation Loss: 2.7083\n",
      "Epoch 131/150, MSE training Loss: 1.4916, RMSE validation Loss: 2.5831\n",
      "Epoch 141/150, MSE training Loss: 2.2568, RMSE validation Loss: 2.8249\n"
     ]
    }
   ],
   "source": [
    "import torch\n",
    "from torch.utils.data import DataLoader, random_split\n",
    "import matplotlib.pyplot as plt\n",
    "import torch.optim as optim\n",
    "from torch.optim.lr_scheduler import ExponentialLR\n",
    "\n",
    "full_dataset = SpeedDataset('outputs', sequence_length=15)  \n",
    "val_size = int(0.2 * len(full_dataset))  \n",
    "train_size = len(full_dataset) - val_size\n",
    "train_dataset, val_dataset = random_split(full_dataset, [train_size, val_size])\n",
    "\n",
    "# Initialize DataLoaders\n",
    "train_loader = DataLoader(train_dataset, batch_size=32, shuffle=True)\n",
    "val_loader = DataLoader(val_dataset, batch_size=32, shuffle=False)\n",
    "\n",
    "# Model, Loss, and Optimizer\n",
    "device = torch.device(\"cuda\" if torch.cuda.is_available() else \"cpu\")\n",
    "model = SpeedPredictor(sequence_length=15, feature_size=7, embedding_dim=64, hidden_dim=128, output_size=1)\n",
    "model.to(device)\n",
    "criterion = nn.MSELoss()\n",
    "optimizer = optim.Adam(model.parameters(), lr=0.001)\n",
    "\n",
    "# Scheduler for learning rate adjustment\n",
    "scheduler = ExponentialLR(optimizer, gamma=0.999)\n",
    "train_losses,val_losses = train_and_validate(model, train_loader, val_loader, criterion, optimizer, scheduler, epochs=150)"
   ]
  },
  {
   "cell_type": "code",
   "execution_count": 165,
   "id": "76bf60c9-2d45-4d60-8746-ba9821d26043",
   "metadata": {},
   "outputs": [
    {
     "data": {
      "image/png": "[encoded data removed]",
      "text/plain": [
       "<Figure size 1000x500 with 1 Axes>"
      ]
     },
     "metadata": {},
     "output_type": "display_data"
    }
   ],
   "source": [
    "# Plotting training and validation loss\n",
    "plt.figure(figsize=(10, 5))\n",
    "plt.plot(range(1, 150+1), train_losses, label='Training Loss')\n",
    "plt.plot(range(1, 150+1), val_losses, label='Validation Loss')\n",
    "plt.xlabel('Epochs')\n",
    "plt.ylabel('Loss')\n",
    "plt.title('Training and Validation Loss')\n",
    "plt.legend()\n",
    "plt.show()"
   ]
  },
  {
   "cell_type": "code",
   "execution_count": 166,
   "id": "46f8286f-f9e2-4d94-9ded-0ff5bfabb256",
   "metadata": {},
   "outputs": [],
   "source": [
    "\n",
    "torch.save(model, 'lstm_Regression_100.pth')\n"
   ]
  },
  {
   "cell_type": "code",
   "execution_count": 167,
   "id": "1bf05010-c4f3-4a52-aa20-a3fe36b93441",
   "metadata": {},
   "outputs": [
    {
     "data": {
      "text/plain": [
       "SpeedPredictor(\n",
       "  (conv1): Conv1d(7, 64, kernel_size=(1,), stride=(1,))\n",
       "  (lstm): LSTM(64, 128, num_layers=2, batch_first=True)\n",
       "  (conv2): Conv1d(128, 64, kernel_size=(1,), stride=(1,))\n",
       "  (fc1): Linear(in_features=64, out_features=32, bias=True)\n",
       "  (relu): ReLU()\n",
       "  (fc2): Linear(in_features=32, out_features=1, bias=True)\n",
       ")"
      ]
     },
     "execution_count": 167,
     "metadata": {},
     "output_type": "execute_result"
    }
   ],
   "source": [
    "# Load the entire model\n",
    "model = torch.load('lstm_Regression_100.pth').to(device)\n",
    "model.eval()  # Set the model to evaluation mode\n"
   ]
  },
  {
   "cell_type": "code",
   "execution_count": 168,
   "id": "e5642f79-1481-4468-96cf-1028deeed46f",
   "metadata": {},
   "outputs": [
    {
     "name": "stdout",
     "output_type": "stream",
     "text": [
      "Predicted: 69.7797, Actual: 68.0000\n",
      "Predicted: 81.5410, Actual: 83.0000\n",
      "Predicted: 56.1711, Actual: 55.0000\n",
      "Predicted: 84.8274, Actual: 87.0000\n",
      "Predicted: 51.6706, Actual: 50.0000\n",
      "Predicted: 52.7094, Actual: 54.0000\n",
      "Predicted: 52.5949, Actual: 45.0000\n",
      "Predicted: 56.9184, Actual: 57.0000\n",
      "Predicted: 80.5277, Actual: 76.0000\n",
      "Predicted: 100.5692, Actual: 103.0000\n",
      "Predicted: 69.0496, Actual: 65.0000\n",
      "Predicted: 77.9001, Actual: 79.0000\n",
      "Predicted: 53.6751, Actual: 55.0000\n",
      "Predicted: 48.5420, Actual: 50.0000\n",
      "Predicted: 34.3424, Actual: 34.0000\n",
      "Predicted: 41.4205, Actual: 43.0000\n",
      "Predicted: 66.7164, Actual: 64.0000\n",
      "Predicted: 31.3314, Actual: 30.0000\n",
      "Predicted: 34.6647, Actual: 35.0000\n",
      "Predicted: 36.1618, Actual: 39.0000\n",
      "Predicted: 29.3999, Actual: 30.0000\n",
      "Predicted: 30.1968, Actual: 30.0000\n",
      "Predicted: 48.7044, Actual: 49.0000\n",
      "Predicted: 54.1099, Actual: 50.0000\n",
      "Predicted: 39.8819, Actual: 41.0000\n",
      "Predicted: 68.7826, Actual: 72.0000\n",
      "Predicted: 40.2974, Actual: 40.0000\n",
      "Predicted: 54.8535, Actual: 60.0000\n",
      "Predicted: 39.9670, Actual: 40.0000\n",
      "Predicted: 49.7136, Actual: 49.0000\n"
     ]
    }
   ],
   "source": [
    "import random\n",
    "def predict_and_compare(model, test_loader):\n",
    "    model.eval()  # Ensure the model is in evaluation mode\n",
    "    predictions = []\n",
    "    actuals = []\n",
    "    with torch.no_grad():  # No need to track gradients\n",
    "        for inputs, targets in test_loader:\n",
    "            inputs, targets = inputs.to(device), targets.to(device)\n",
    "            outputs = model(inputs)\n",
    "            predictions.extend(outputs.squeeze().tolist())\n",
    "            actuals.extend(targets.tolist())  # Collect actual target values\n",
    "    return predictions, actuals\n",
    "\n",
    "# Assuming val_loader is properly defined and contains test data\n",
    "predictions, actuals = predict_and_compare(model, val_loader)\n",
    "\n",
    "def print_random_predictions(predictions, actuals, num_samples=30):\n",
    "    if len(predictions) < num_samples:\n",
    "        num_samples = len(predictions)  # Adjust sample size if predictions are fewer than requested\n",
    "\n",
    "    # Get random sample indices\n",
    "    sample_indices = random.sample(range(len(predictions)), num_samples)\n",
    "\n",
    "    # Print the randomly selected predictions and their actual values\n",
    "    for idx in sample_indices:\n",
    "        print(f\"Predicted: {predictions[idx]:.4f}, Actual: {actuals[idx]:.4f}\")\n",
    "\n",
    "# Assuming you have already executed the predict_and_compare function\n",
    "# predictions, actuals = predict_and_compare(model, val_loader)\n",
    "\n",
    "# Now print randomly selected 30 predictions and their actual values\n",
    "print_random_predictions(predictions, actuals, 30)\n",
    "\n"
   ]
  }
 ],
 "metadata": {
  "kernelspec": {
   "display_name": "Python 3 (ipykernel)",
   "language": "python",
   "name": "python3"
  },
  "language_info": {
   "codemirror_mode": {
    "name": "ipython",
    "version": 3
   },
   "file_extension": ".py",
   "mimetype": "text/x-python",
   "name": "python",
   "nbconvert_exporter": "python",
   "pygments_lexer": "ipython3",
   "version": "3.9.0"
  }
 },
 "nbformat": 4,
 "nbformat_minor": 5
}
