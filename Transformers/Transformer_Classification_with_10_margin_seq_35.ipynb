{
  "cells": [
    {
      "cell_type": "markdown",
      "metadata": {
        "id": "view-in-github",
        "colab_type": "text"
      },
      "source": [
        "<a href=\"https://colab.research.google.com/github/saikrishna1108/5106_Final_Project/blob/main/Transformer_Classification_with_10_margin_seq_35.ipynb\" target=\"_parent\"><img src=\"https://colab.research.google.com/assets/colab-badge.svg\" alt=\"Open In Colab\"/></a>"
      ]
    },
    {
      "cell_type": "code",
      "source": [],
      "metadata": {
        "id": "HkcGZDEStFWm"
      },
      "id": "HkcGZDEStFWm",
      "execution_count": null,
      "outputs": []
    },
    {
      "cell_type": "code",
      "source": [
        "from google.colab import drive\n",
        "drive.mount('/content/drive')"
      ],
      "metadata": {
        "colab": {
          "base_uri": "https://localhost:8080/"
        },
        "id": "gSSU2dtCtGjd",
        "outputId": "d26d96a2-18b5-4146-b674-3fb203ecb28b"
      },
      "id": "gSSU2dtCtGjd",
      "execution_count": 2,
      "outputs": [
        {
          "output_type": "stream",
          "name": "stdout",
          "text": [
            "Mounted at /content/drive\n"
          ]
        }
      ]
    },
    {
      "cell_type": "code",
      "source": [
        "import os\n",
        "os.chdir('/content/drive/MyDrive/rtml/5106_Final_Project/5106_Final_Project')"
      ],
      "metadata": {
        "id": "kNBl7NMqrF10"
      },
      "id": "kNBl7NMqrF10",
      "execution_count": 3,
      "outputs": []
    },
    {
      "cell_type": "code",
      "execution_count": 4,
      "id": "450b68b7-329c-4a25-92cf-9dd033b1e484",
      "metadata": {
        "id": "450b68b7-329c-4a25-92cf-9dd033b1e484"
      },
      "outputs": [],
      "source": [
        "import os\n",
        "import torch\n",
        "import numpy as np\n",
        "import random\n",
        "from torch.utils.data import DataLoader, Dataset\n",
        "import math\n",
        "\n",
        "class SpeedDataset(Dataset):\n",
        "    def __init__(self, directory, sequence_length=5, augment=True):\n",
        "        self.data = []\n",
        "        self.sequence_length = sequence_length\n",
        "        self.num_classes = (105 - 30) // 10 + 1  # Speed classes from 30-39, ..., 100-105\n",
        "        self.augment = augment  # Enable or disable augmentation\n",
        "        self.preprocess_data(directory)\n",
        "        self.normalize_features()\n",
        "\n",
        "    def preprocess_data(self, directory):\n",
        "        for filename in os.listdir(directory):\n",
        "            if filename.endswith('.txt'):\n",
        "                speed = float(filename.split('_')[-1].replace('.txt', ''))\n",
        "                speed_class = 0 if speed < 30 else (int(speed) - 30) // 10\n",
        "                filepath = os.path.join(directory, filename)\n",
        "                with open(filepath, 'r') as file:\n",
        "                    track_data = {}\n",
        "                    for line in file:\n",
        "                        points = line.strip().split(',')\n",
        "                        if len(points) == 6:\n",
        "                            frame, track_id, x1, y1, x2, y2 = map(float, line.strip().split(','))\n",
        "                        if len(points) == 7:\n",
        "                            frame,class_id, track_id, x1, y1, x2, y2 = map(float, line.strip().split(','))\n",
        "                        if track_id not in track_data:\n",
        "                            track_data[track_id] = []\n",
        "                        track_data[track_id].append([x1, y1, x2, y2])\n",
        "\n",
        "                    for track_id, frames in track_data.items():\n",
        "                        if len(frames) >= self.sequence_length:\n",
        "                            features = self.extract_features(frames)\n",
        "                            overlap = 5  # Overlap for sequence extraction\n",
        "                            for start_idx in range(0, len(features) - self.sequence_length + 1, self.sequence_length - overlap):\n",
        "                                end_idx = start_idx + self.sequence_length\n",
        "                                sequence = features[start_idx:end_idx]\n",
        "                                self.data.append((sequence, speed_class))\n",
        "\n",
        "    def extract_features(self, frames):\n",
        "        features = []\n",
        "        for i in range(1, len(frames)):\n",
        "            current_frame = frames[i]\n",
        "            previous_frame = frames[i-1]\n",
        "            features.append(self.compute_frame_features(current_frame, previous_frame))\n",
        "        return features\n",
        "\n",
        "    def compute_frame_features(self, current_frame, previous_frame):\n",
        "        x1, y1, x2, y2 = current_frame\n",
        "        px1, py1, px2, py2 = previous_frame\n",
        "\n",
        "        width, height = x2 - x1, y2 - y1\n",
        "        p_width, p_height = px2 - px1, py2 - py1\n",
        "\n",
        "        x2_change = x2 - px2\n",
        "        y2_change = y2 - py2\n",
        "        x1_change = x1 - px1\n",
        "        y1_change = y1 - py1\n",
        "\n",
        "        width_change = width - p_width\n",
        "        height_change = height - p_height\n",
        "        area_change = (width * height) - (p_width * p_height)\n",
        "        perimeter_change = (2 * (width + height)) - (2 * (p_width + p_height))\n",
        "\n",
        "        center_x, center_y = (x1 + x2) / 2, (y1 + y2) / 2\n",
        "        p_center_x, p_center_y = (px1 + px2) / 2, (py1 + py2) / 2\n",
        "        center_x_change = center_x - p_center_x\n",
        "        center_y_change = center_y - p_center_y\n",
        "        distance_moved = math.sqrt(center_x_change ** 2 + center_y_change ** 2)\n",
        "\n",
        "        velocity = distance_moved/0.03  # Assuming constant frame rate\n",
        "        p_velocity = (math.sqrt((px2 - px1) ** 2 + (py2 - py1) ** 2))/0.03\n",
        "        acceleration = abs(velocity - p_velocity)\n",
        "\n",
        "        feature_vector = [x1_change, y1_change, x2_change, y2_change,\n",
        "                          center_x_change, center_y_change, distance_moved, velocity, acceleration]\n",
        "        return feature_vector\n",
        "\n",
        "    def normalize_features(self):\n",
        "        all_features = [feature for sequence, _ in self.data for feature in sequence]\n",
        "        all_features = np.array(all_features)\n",
        "        self.mean = np.mean(all_features, axis=0)\n",
        "        self.std = np.std(all_features, axis=0)\n",
        "        for i, (sequence, speed_class) in enumerate(self.data):\n",
        "            normalized_sequence = (sequence - self.mean) / (self.std)\n",
        "            self.data[i] = (normalized_sequence, speed_class)\n",
        "\n",
        "    def __len__(self):\n",
        "        return len(self.data)\n",
        "\n",
        "    def __getitem__(self, idx):\n",
        "        inputs, output = self.data[idx]\n",
        "        if self.augment:\n",
        "            inputs = self.apply_augmentation(inputs)\n",
        "        return torch.tensor(inputs, dtype=torch.float32), torch.tensor(output, dtype=torch.long)\n",
        "\n",
        "    def apply_augmentation(self, inputs):\n",
        "        if random.random() > 0.5:\n",
        "            inputs = self.add_noise(inputs)\n",
        "        if random.random() > 0.5:\n",
        "            inputs = self.time_shift(inputs, shift=random.choice([-1, 1]))\n",
        "        if random.random() > 0.5:\n",
        "            inputs = self.scale_features(inputs, scale=random.uniform(0.9, 1.1))\n",
        "        if random.random() > 0.5:\n",
        "            inputs = self.mirror_features(inputs)\n",
        "        return inputs\n",
        "\n",
        "    def add_noise(self, features, noise_level=0.05):\n",
        "        noise = np.random.normal(0, noise_level, features.shape)\n",
        "        return features + noise\n",
        "\n",
        "    def time_shift(self, features, shift=1):\n",
        "        if shift > 0:\n",
        "            return np.vstack([np.zeros((shift, features.shape[1])), features[:-shift]])\n",
        "        elif shift < 0:\n",
        "            return np.vstack([features[-shift:], np.zeros((-shift, features.shape[1]))])\n",
        "        return features\n",
        "\n",
        "    def scale_features(self, features, scale=1.1):\n",
        "        return features * scale\n",
        "\n",
        "    def mirror_features(self, features):\n",
        "        features_copy = features.copy()\n",
        "        features_copy[:, [0, 2]] = -features_copy[:, [0, 2]]  # Assume these indices are the x-coordinates\n",
        "        return features_copy\n"
      ]
    },
    {
      "cell_type": "code",
      "execution_count": 4,
      "id": "f4295f9e-33ea-49bd-97f5-13d339b22f3c",
      "metadata": {
        "id": "f4295f9e-33ea-49bd-97f5-13d339b22f3c"
      },
      "outputs": [],
      "source": []
    },
    {
      "cell_type": "code",
      "execution_count": 5,
      "id": "b8245562-d2e4-4b96-b02d-1f8e325d625a",
      "metadata": {
        "id": "b8245562-d2e4-4b96-b02d-1f8e325d625a"
      },
      "outputs": [],
      "source": [
        "import torch\n",
        "import torch.nn as nn\n",
        "import torch.nn.functional as F\n",
        "import math\n",
        "\n",
        "class PositionalEncoding(nn.Module):\n",
        "    def __init__(self, d_model, max_len=5000):\n",
        "        super(PositionalEncoding, self).__init__()\n",
        "        self.dropout = nn.Dropout(p=0.1)\n",
        "\n",
        "        pe = torch.zeros(max_len, d_model)\n",
        "        position = torch.arange(0, max_len, dtype=torch.float).unsqueeze(1)\n",
        "        div_term = torch.exp(torch.arange(0, d_model, 2).float() * (-math.log(10000.0) / d_model))\n",
        "        pe[:, 0::2] = torch.sin(position * div_term)\n",
        "        pe[:, 1::2] = torch.cos(position * div_term)\n",
        "        pe = pe.unsqueeze(0).transpose(0, 1)\n",
        "        self.register_buffer('pe', pe)\n",
        "\n",
        "    def forward(self, x):\n",
        "        x = x + self.pe[:x.size(0), :]\n",
        "        return self.dropout(x)\n",
        "\n",
        "class SpeedPredictor(nn.Module):\n",
        "    def __init__(self, sequence_length, feature_size, hidden_dim, output_size):\n",
        "        super(SpeedPredictor, self).__init__()\n",
        "        self.embedding = nn.Conv1d(in_channels=feature_size, out_channels=hidden_dim, kernel_size=1)\n",
        "        self.pos_encoder = PositionalEncoding(hidden_dim)\n",
        "        self.encoder_layer = nn.TransformerEncoderLayer(d_model=hidden_dim, nhead=8, dim_feedforward=hidden_dim * 4, dropout=0.1)\n",
        "        self.transformer_encoder = nn.TransformerEncoder(self.encoder_layer, num_layers=10)\n",
        "        self.fc1 = nn.Linear(hidden_dim, 256)\n",
        "        self.relu = nn.ReLU()\n",
        "        self.dropout = nn.Dropout(0.5)\n",
        "        self.fc2 = nn.Linear(256, output_size)\n",
        "\n",
        "    def forward(self, x):\n",
        "        x = x.permute(0, 2, 1)\n",
        "        x = self.embedding(x)\n",
        "        x = x.permute(0, 2, 1)\n",
        "        x = x.permute(1, 0, 2)\n",
        "        x = self.pos_encoder(x)\n",
        "        x = self.transformer_encoder(x)\n",
        "        x = x.permute(1, 0, 2)  # Switch back to (batch, seq_len, features)\n",
        "        x = x[:, -1, :]  # Only use the last sequence output for prediction\n",
        "        x = self.fc1(x)\n",
        "        x = self.relu(x)\n",
        "        x = self.dropout(x)\n",
        "        x = self.fc2(x)\n",
        "        return x\n",
        "\n",
        "def init_weights(m):\n",
        "    if isinstance(m, nn.Linear):\n",
        "        nn.init.kaiming_normal_(m.weight)\n",
        "        nn.init.constant_(m.bias, 0)\n"
      ]
    },
    {
      "cell_type": "code",
      "execution_count": 6,
      "id": "7aa6932f-cadb-40ca-9f17-a69866cca6c2",
      "metadata": {
        "colab": {
          "base_uri": "https://localhost:8080/"
        },
        "id": "7aa6932f-cadb-40ca-9f17-a69866cca6c2",
        "outputId": "0c704549-e51b-41a4-f3c9-d50532430483"
      },
      "outputs": [
        {
          "output_type": "stream",
          "name": "stdout",
          "text": [
            "Using device: cuda\n"
          ]
        }
      ],
      "source": [
        "import torch\n",
        "\n",
        "# Check for CUDA\n",
        "device = torch.device(\"cuda\" if torch.cuda.is_available() else \"cpu\")\n",
        "print(\"Using device:\", device)\n"
      ]
    },
    {
      "cell_type": "code",
      "source": [],
      "metadata": {
        "id": "qQkatXh1rAiJ"
      },
      "id": "qQkatXh1rAiJ",
      "execution_count": 6,
      "outputs": []
    },
    {
      "cell_type": "code",
      "execution_count": 7,
      "id": "2e9374e2-b8f8-4c42-bf2b-7b02698f7b78",
      "metadata": {
        "id": "2e9374e2-b8f8-4c42-bf2b-7b02698f7b78"
      },
      "outputs": [],
      "source": [
        "\n",
        "def train(model, train_loader, test_loader, criterion, optimizer, scheduler, epochs):\n",
        "    for epoch in range(epochs):\n",
        "        model.train()\n",
        "        Train_total_loss = 0\n",
        "        correct_train = 0\n",
        "        total_train = 0\n",
        "\n",
        "        for inputs, targets in train_loader:\n",
        "            inputs, targets = inputs.to(device), targets.to(device)  # Ensure inputs and targets are on the same device as model\n",
        "            optimizer.zero_grad()\n",
        "            outputs = model(inputs)\n",
        "            loss = criterion(outputs, targets)\n",
        "            loss.backward()\n",
        "            optimizer.step()  # First, update the parameters with the current learning rate\n",
        "\n",
        "            Train_total_loss += loss.item()\n",
        "            _, predicted = torch.max(outputs.data, 1)\n",
        "            correct_train += (predicted == targets).sum().item()\n",
        "            total_train += targets.size(0)\n",
        "\n",
        "        scheduler.step()  # After optimizer updates, adjust the learning rate\n",
        "\n",
        "        if epoch % 5 == 0 or epoch == epochs - 1:\n",
        "            model.eval()\n",
        "            correct_test = 0\n",
        "            total_test = 0\n",
        "            total_loss = 0\n",
        "            with torch.no_grad():\n",
        "                for inputs, targets in test_loader:\n",
        "                    inputs, targets = inputs.to(device), targets.to(device)\n",
        "                    outputs = model(inputs)\n",
        "                    loss = criterion(outputs, targets)\n",
        "                    total_loss += loss.item()\n",
        "                    _, predicted = torch.max(outputs.data, 1)\n",
        "                    correct_test += (predicted == targets).sum().item()\n",
        "                    total_test += targets.size(0)\n",
        "\n",
        "            train_accuracy = 100 * correct_train / total_train\n",
        "            test_accuracy = 100 * correct_test / total_test\n",
        "            print(f'Epoch {epoch+1}: Train Loss: {Train_total_loss / len(train_loader)} Test Loss: {total_loss / len(train_loader)}, '\n",
        "                  f'Train Accuracy: {train_accuracy:.2f}%, Validation Accuracy: {test_accuracy:.2f}%')\n"
      ]
    },
    {
      "cell_type": "code",
      "execution_count": 9,
      "id": "df1be032-2699-4e69-a658-cd9dfba41086",
      "metadata": {
        "colab": {
          "base_uri": "https://localhost:8080/"
        },
        "id": "df1be032-2699-4e69-a658-cd9dfba41086",
        "outputId": "72a70edf-eabe-4eeb-b411-c824dec59bdd"
      },
      "outputs": [
        {
          "output_type": "execute_result",
          "data": {
            "text/plain": [
              "1152"
            ]
          },
          "metadata": {},
          "execution_count": 9
        }
      ],
      "source": [
        "import torch\n",
        "from torch.utils.data import DataLoader, random_split\n",
        "from torch.optim import Adam, SGD\n",
        "from torch.optim.lr_scheduler import ExponentialLR\n",
        "\n",
        "# Assuming your SpeedPredictor and SpeedDataset are already defined and imported\n",
        "\n",
        "# Initialize datasets\n",
        "train_dataset = SpeedDataset('./Dataset/Train/', sequence_length=35)\n",
        "test_dataset = SpeedDataset('./Dataset/Test/', sequence_length=35)\n",
        "train_loader = DataLoader(train_dataset, batch_size=64, shuffle=True)\n",
        "test_loader = DataLoader(test_dataset, batch_size=64, shuffle=False)\n",
        "\n",
        "len(train_dataset)\n"
      ]
    },
    {
      "cell_type": "code",
      "execution_count": 10,
      "id": "eee5096d-4700-4c44-acf7-e384ed7a8869",
      "metadata": {
        "id": "eee5096d-4700-4c44-acf7-e384ed7a8869"
      },
      "outputs": [],
      "source": [
        "def extract_labels(data_loader):\n",
        "    labels = []\n",
        "    for _, y in data_loader:\n",
        "        labels.append(y)\n",
        "    return torch.cat(labels)  # Concatenate list of tensors into a single tensor\n",
        "\n",
        "# Extract labels from the training DataLoader\n",
        "train_labels = extract_labels(train_loader)\n",
        "\n",
        "# Compute class weights using sklearn's compute_class_weight\n",
        "from sklearn.utils.class_weight import compute_class_weight\n",
        "\n",
        "# Convert train_labels to a numpy array and calculate class weights\n",
        "class_weights = compute_class_weight(\n",
        "    'balanced',\n",
        "    classes=np.unique(train_labels.numpy()),\n",
        "    y=train_labels.numpy()\n",
        ")\n",
        "\n",
        "# Convert class weights to a tensor\n",
        "class_weights_tensor = torch.tensor(class_weights, dtype=torch.float, device=device)\n"
      ]
    },
    {
      "cell_type": "code",
      "execution_count": 11,
      "id": "540e8f9d-c4d5-4e2e-9800-875ba4a96c50",
      "metadata": {
        "colab": {
          "base_uri": "https://localhost:8080/"
        },
        "id": "540e8f9d-c4d5-4e2e-9800-875ba4a96c50",
        "outputId": "3915c219-4d9d-4844-a64e-c77a9ef31cc8"
      },
      "outputs": [
        {
          "output_type": "stream",
          "name": "stderr",
          "text": [
            "/usr/local/lib/python3.10/dist-packages/torch/nn/modules/transformer.py:286: UserWarning: enable_nested_tensor is True, but self.use_nested_tensor is False because encoder_layer.self_attn.batch_first was not True(use batch_first for better inference performance)\n",
            "  warnings.warn(f\"enable_nested_tensor is True, but self.use_nested_tensor is False because {why_not_sparsity_fast_path}\")\n"
          ]
        },
        {
          "output_type": "stream",
          "name": "stdout",
          "text": [
            "Epoch 1: Train Loss: 2.4716810385386148 Test Loss: 0.24206141630808511, Train Accuracy: 12.67%, Validation Accuracy: 10.64%\n",
            "Epoch 6: Train Loss: 2.087637835078769 Test Loss: 0.23460329903496635, Train Accuracy: 13.54%, Validation Accuracy: 12.77%\n",
            "Epoch 11: Train Loss: 2.088937375280592 Test Loss: 0.2322782410515679, Train Accuracy: 10.50%, Validation Accuracy: 14.89%\n",
            "Epoch 16: Train Loss: 2.080488430129157 Test Loss: 0.23493758837381998, Train Accuracy: 11.55%, Validation Accuracy: 12.77%\n",
            "Epoch 21: Train Loss: 2.080740902158949 Test Loss: 0.23114436202579075, Train Accuracy: 14.58%, Validation Accuracy: 20.21%\n",
            "Epoch 26: Train Loss: 2.08185785346561 Test Loss: 0.231188694636027, Train Accuracy: 17.71%, Validation Accuracy: 20.21%\n",
            "Epoch 31: Train Loss: 2.079710178905063 Test Loss: 0.23070975144704184, Train Accuracy: 17.80%, Validation Accuracy: 14.89%\n",
            "Epoch 36: Train Loss: 2.080324411392212 Test Loss: 0.23136713769700792, Train Accuracy: 16.49%, Validation Accuracy: 20.21%\n",
            "Epoch 41: Train Loss: 2.0809653335147433 Test Loss: 0.23142921924591064, Train Accuracy: 17.88%, Validation Accuracy: 20.21%\n",
            "Epoch 46: Train Loss: 2.0788023471832275 Test Loss: 0.23194171322716606, Train Accuracy: 14.41%, Validation Accuracy: 20.21%\n",
            "Epoch 51: Train Loss: 2.0793480740653143 Test Loss: 0.2313766082127889, Train Accuracy: 17.27%, Validation Accuracy: 14.89%\n",
            "Epoch 56: Train Loss: 2.0821029212739735 Test Loss: 0.23206249872843424, Train Accuracy: 16.23%, Validation Accuracy: 14.89%\n",
            "Epoch 61: Train Loss: 2.0792836215760975 Test Loss: 0.23144361707899305, Train Accuracy: 15.36%, Validation Accuracy: 20.21%\n",
            "Epoch 66: Train Loss: 2.079181684388055 Test Loss: 0.23187826739417183, Train Accuracy: 14.41%, Validation Accuracy: 2.13%\n",
            "Epoch 71: Train Loss: 2.0780866146087646 Test Loss: 0.23125086890326607, Train Accuracy: 18.66%, Validation Accuracy: 12.77%\n",
            "Epoch 76: Train Loss: 2.0819951958126492 Test Loss: 0.2314480808046129, Train Accuracy: 18.06%, Validation Accuracy: 14.89%\n",
            "Epoch 81: Train Loss: 2.079293860329522 Test Loss: 0.2314993010626899, Train Accuracy: 15.02%, Validation Accuracy: 19.15%\n",
            "Epoch 86: Train Loss: 2.079792168405321 Test Loss: 0.2315556208292643, Train Accuracy: 17.62%, Validation Accuracy: 20.21%\n",
            "Epoch 91: Train Loss: 2.079538689719306 Test Loss: 0.23158076074388292, Train Accuracy: 18.58%, Validation Accuracy: 20.21%\n",
            "Epoch 96: Train Loss: 2.0789159536361694 Test Loss: 0.2321082353591919, Train Accuracy: 17.97%, Validation Accuracy: 20.21%\n",
            "Epoch 101: Train Loss: 2.0792345470852323 Test Loss: 0.23156143559349907, Train Accuracy: 14.76%, Validation Accuracy: 14.89%\n",
            "Epoch 106: Train Loss: 2.079474581612481 Test Loss: 0.2315917279985216, Train Accuracy: 17.10%, Validation Accuracy: 14.89%\n",
            "Epoch 111: Train Loss: 2.0795169936286078 Test Loss: 0.23161111937628853, Train Accuracy: 17.45%, Validation Accuracy: 20.21%\n",
            "Epoch 116: Train Loss: 2.0795238415400186 Test Loss: 0.23164286878373888, Train Accuracy: 15.28%, Validation Accuracy: 14.89%\n",
            "Epoch 121: Train Loss: 2.0795721080568104 Test Loss: 0.23162421915266249, Train Accuracy: 16.49%, Validation Accuracy: 14.89%\n",
            "Epoch 126: Train Loss: 2.0796993838416205 Test Loss: 0.23161303997039795, Train Accuracy: 16.58%, Validation Accuracy: 14.89%\n",
            "Epoch 131: Train Loss: 2.07945618364546 Test Loss: 0.23162677552964953, Train Accuracy: 19.10%, Validation Accuracy: 20.21%\n",
            "Epoch 136: Train Loss: 2.0801805522706776 Test Loss: 0.23187334007687038, Train Accuracy: 14.41%, Validation Accuracy: 20.21%\n",
            "Epoch 141: Train Loss: 2.0837535195880466 Test Loss: 0.2315873702367147, Train Accuracy: 16.41%, Validation Accuracy: 14.89%\n",
            "Epoch 146: Train Loss: 2.0807585848702326 Test Loss: 0.23176256815592447, Train Accuracy: 15.62%, Validation Accuracy: 12.77%\n",
            "Epoch 151: Train Loss: 2.0816378593444824 Test Loss: 0.2316310273276435, Train Accuracy: 16.58%, Validation Accuracy: 14.89%\n",
            "Epoch 156: Train Loss: 2.079285899798075 Test Loss: 0.23171481821272108, Train Accuracy: 17.19%, Validation Accuracy: 20.21%\n",
            "Epoch 161: Train Loss: 2.080987956788805 Test Loss: 0.2316943539513482, Train Accuracy: 17.01%, Validation Accuracy: 20.21%\n",
            "Epoch 166: Train Loss: 2.079596413506402 Test Loss: 0.2316608428955078, Train Accuracy: 19.44%, Validation Accuracy: 20.21%\n",
            "Epoch 171: Train Loss: 2.0819570885764227 Test Loss: 0.2318461603588528, Train Accuracy: 17.80%, Validation Accuracy: 19.15%\n",
            "Epoch 176: Train Loss: 2.0771589279174805 Test Loss: 0.23067573706309, Train Accuracy: 19.36%, Validation Accuracy: 20.21%\n",
            "Epoch 181: Train Loss: 2.0806601444880166 Test Loss: 0.2326788240008884, Train Accuracy: 19.27%, Validation Accuracy: 14.89%\n",
            "Epoch 186: Train Loss: 2.0795522265964084 Test Loss: 0.23150071832868788, Train Accuracy: 19.10%, Validation Accuracy: 20.21%\n",
            "Epoch 191: Train Loss: 2.0794050693511963 Test Loss: 0.2315430243810018, Train Accuracy: 19.18%, Validation Accuracy: 20.21%\n",
            "Epoch 196: Train Loss: 2.079426301850213 Test Loss: 0.23156947559780544, Train Accuracy: 19.27%, Validation Accuracy: 20.21%\n",
            "Epoch 200: Train Loss: 2.0793517563078137 Test Loss: 0.23163778252071804, Train Accuracy: 19.27%, Validation Accuracy: 20.21%\n"
          ]
        }
      ],
      "source": [
        "# Model setup\n",
        "max_classes = train_dataset.num_classes\n",
        "model = SpeedPredictor(sequence_length=35, feature_size=9, hidden_dim=128, output_size=max_classes)\n",
        "model.to(device)  # Ensure model is on the appropriate device\n",
        "model.apply(init_weights)\n",
        "# Loss function and optimizer\n",
        "criterion = nn.CrossEntropyLoss(weight=class_weights_tensor).to(device)  # Ensure loss function is on the appropriate device\n",
        "optimizer = Adam(model.parameters(), lr=0.001)\n",
        "scheduler = ExponentialLR(optimizer, gamma=0.99999999)  # Learning rate scheduler\n",
        "\n",
        "# Train the model\n",
        "train(model, train_loader, test_loader, criterion, optimizer, scheduler, epochs=200)\n"
      ]
    },
    {
      "cell_type": "code",
      "source": [
        "# Model setup\n",
        "max_classes = train_dataset.num_classes\n",
        "model = SpeedPredictor(sequence_length=35, feature_size=9, hidden_dim=128, output_size=max_classes)\n",
        "model.to(device)  # Ensure model is on the appropriate device\n",
        "model.apply(init_weights)\n",
        "# Loss function and optimizer\n",
        "criterion = nn.CrossEntropyLoss(weight=class_weights_tensor).to(device)  # Ensure loss function is on the appropriate device\n",
        "optimizer = Adam(model.parameters(), lr=0.0001)\n",
        "scheduler = ExponentialLR(optimizer, gamma=0.99999999)  # Learning rate scheduler\n",
        "\n",
        "# Train the model\n",
        "train(model, train_loader, test_loader, criterion, optimizer, scheduler, epochs=200)\n"
      ],
      "metadata": {
        "colab": {
          "base_uri": "https://localhost:8080/"
        },
        "id": "mfs3QGUPt6vr",
        "outputId": "3228e109-f6c7-4add-89d8-6b699e573da4"
      },
      "id": "mfs3QGUPt6vr",
      "execution_count": 12,
      "outputs": [
        {
          "output_type": "stream",
          "name": "stderr",
          "text": [
            "/usr/local/lib/python3.10/dist-packages/torch/nn/modules/transformer.py:286: UserWarning: enable_nested_tensor is True, but self.use_nested_tensor is False because encoder_layer.self_attn.batch_first was not True(use batch_first for better inference performance)\n",
            "  warnings.warn(f\"enable_nested_tensor is True, but self.use_nested_tensor is False because {why_not_sparsity_fast_path}\")\n"
          ]
        },
        {
          "output_type": "stream",
          "name": "stdout",
          "text": [
            "Epoch 1: Train Loss: 2.7167554166581898 Test Loss: 0.22665517859988743, Train Accuracy: 12.85%, Validation Accuracy: 5.32%\n",
            "Epoch 6: Train Loss: 2.220865978135003 Test Loss: 0.2304542064666748, Train Accuracy: 12.50%, Validation Accuracy: 14.89%\n",
            "Epoch 11: Train Loss: 2.119457205136617 Test Loss: 0.22158144579993355, Train Accuracy: 15.89%, Validation Accuracy: 18.09%\n",
            "Epoch 16: Train Loss: 1.7157085471683078 Test Loss: 0.1707276569472419, Train Accuracy: 28.82%, Validation Accuracy: 35.11%\n",
            "Epoch 21: Train Loss: 1.6255942516856723 Test Loss: 0.14047586255603367, Train Accuracy: 33.59%, Validation Accuracy: 37.23%\n",
            "Epoch 26: Train Loss: 1.4696359700626798 Test Loss: 0.18519010146458945, Train Accuracy: 39.93%, Validation Accuracy: 32.98%\n",
            "Epoch 31: Train Loss: 1.358130110634698 Test Loss: 0.19560841057035658, Train Accuracy: 43.40%, Validation Accuracy: 35.11%\n",
            "Epoch 36: Train Loss: 1.2595647772153218 Test Loss: 0.16420176294114855, Train Accuracy: 49.83%, Validation Accuracy: 40.43%\n",
            "Epoch 41: Train Loss: 1.3225797481007047 Test Loss: 0.14959351221720377, Train Accuracy: 46.53%, Validation Accuracy: 36.17%\n",
            "Epoch 46: Train Loss: 1.2038509183459811 Test Loss: 0.15048881371816, Train Accuracy: 50.87%, Validation Accuracy: 39.36%\n",
            "Epoch 51: Train Loss: 1.1769405272271898 Test Loss: 0.16022847758399117, Train Accuracy: 51.30%, Validation Accuracy: 39.36%\n",
            "Epoch 56: Train Loss: 1.1917493012216356 Test Loss: 0.1498027973704868, Train Accuracy: 50.95%, Validation Accuracy: 47.87%\n",
            "Epoch 61: Train Loss: 1.157241056362788 Test Loss: 0.13157350487179226, Train Accuracy: 51.04%, Validation Accuracy: 44.68%\n",
            "Epoch 66: Train Loss: 1.1760285960303412 Test Loss: 0.14878840578926933, Train Accuracy: 50.35%, Validation Accuracy: 40.43%\n",
            "Epoch 71: Train Loss: 1.1543721225526598 Test Loss: 0.13399098979102242, Train Accuracy: 51.04%, Validation Accuracy: 45.74%\n",
            "Epoch 76: Train Loss: 1.2265217701594036 Test Loss: 0.14397302601072523, Train Accuracy: 49.65%, Validation Accuracy: 37.23%\n",
            "Epoch 81: Train Loss: 1.1531019409497578 Test Loss: 0.14406974448098075, Train Accuracy: 52.00%, Validation Accuracy: 43.62%\n",
            "Epoch 86: Train Loss: 1.221751140223609 Test Loss: 0.13539952701992458, Train Accuracy: 49.57%, Validation Accuracy: 45.74%\n",
            "Epoch 91: Train Loss: 1.1030693749586742 Test Loss: 0.14448930819829306, Train Accuracy: 53.12%, Validation Accuracy: 44.68%\n",
            "Epoch 96: Train Loss: 1.034605258040958 Test Loss: 0.13827572266260782, Train Accuracy: 54.43%, Validation Accuracy: 43.62%\n",
            "Epoch 101: Train Loss: 1.053658174143897 Test Loss: 0.161668598651886, Train Accuracy: 55.12%, Validation Accuracy: 43.62%\n",
            "Epoch 106: Train Loss: 1.019008606672287 Test Loss: 0.15473420090145534, Train Accuracy: 56.25%, Validation Accuracy: 38.30%\n",
            "Epoch 111: Train Loss: 1.1066260536511738 Test Loss: 0.1435343689388699, Train Accuracy: 53.47%, Validation Accuracy: 45.74%\n",
            "Epoch 116: Train Loss: 1.0393582880496979 Test Loss: 0.17764514022403294, Train Accuracy: 56.34%, Validation Accuracy: 39.36%\n",
            "Epoch 121: Train Loss: 1.0779393282201555 Test Loss: 0.13957327604293823, Train Accuracy: 53.99%, Validation Accuracy: 39.36%\n",
            "Epoch 126: Train Loss: 1.0141800608899858 Test Loss: 0.15108148256937662, Train Accuracy: 59.20%, Validation Accuracy: 39.36%\n",
            "Epoch 131: Train Loss: 1.0491027103530035 Test Loss: 0.13934077819188437, Train Accuracy: 56.16%, Validation Accuracy: 45.74%\n",
            "Epoch 136: Train Loss: 1.0367637442217932 Test Loss: 0.14416857560475668, Train Accuracy: 56.42%, Validation Accuracy: 45.74%\n",
            "Epoch 141: Train Loss: 1.0096513993210263 Test Loss: 0.14173196421729195, Train Accuracy: 56.34%, Validation Accuracy: 50.00%\n",
            "Epoch 146: Train Loss: 0.992752965953615 Test Loss: 0.17644320593939888, Train Accuracy: 57.20%, Validation Accuracy: 40.43%\n",
            "Epoch 151: Train Loss: 1.0056749681631725 Test Loss: 0.12369188666343689, Train Accuracy: 55.90%, Validation Accuracy: 51.06%\n",
            "Epoch 156: Train Loss: 1.00880386100875 Test Loss: 0.14920710192786324, Train Accuracy: 59.03%, Validation Accuracy: 41.49%\n",
            "Epoch 161: Train Loss: 0.9898920357227325 Test Loss: 0.18126407596800062, Train Accuracy: 58.16%, Validation Accuracy: 35.11%\n",
            "Epoch 166: Train Loss: 0.9975648191240098 Test Loss: 0.1563168830341763, Train Accuracy: 56.94%, Validation Accuracy: 42.55%\n",
            "Epoch 171: Train Loss: 1.0042082170645397 Test Loss: 0.1592236558596293, Train Accuracy: 57.64%, Validation Accuracy: 45.74%\n",
            "Epoch 176: Train Loss: 1.0815570387575362 Test Loss: 0.1468154854244656, Train Accuracy: 53.82%, Validation Accuracy: 46.81%\n",
            "Epoch 181: Train Loss: 0.9788279632727305 Test Loss: 0.15381432904137504, Train Accuracy: 59.55%, Validation Accuracy: 46.81%\n",
            "Epoch 186: Train Loss: 0.984355264239841 Test Loss: 0.15682711866166857, Train Accuracy: 57.20%, Validation Accuracy: 43.62%\n",
            "Epoch 191: Train Loss: 1.0039323601457808 Test Loss: 0.15159571833080715, Train Accuracy: 57.47%, Validation Accuracy: 47.87%\n",
            "Epoch 196: Train Loss: 0.9828218089209663 Test Loss: 0.14054221577114528, Train Accuracy: 57.29%, Validation Accuracy: 45.74%\n",
            "Epoch 200: Train Loss: 0.9911576873726315 Test Loss: 0.1578372915585836, Train Accuracy: 57.73%, Validation Accuracy: 42.55%\n"
          ]
        }
      ]
    },
    {
      "cell_type": "code",
      "execution_count": 13,
      "id": "14bb4e32-9e8d-4179-9224-6c65ca79665b",
      "metadata": {
        "id": "14bb4e32-9e8d-4179-9224-6c65ca79665b"
      },
      "outputs": [],
      "source": [
        "def print_confusion_matrix_and_report(all_targets, all_preds):\n",
        "    print(confusion_matrix(all_targets, all_preds))\n",
        "    print(classification_report(all_targets, all_preds, target_names=[f'Class {30 + i * 10}-{39 + i * 10}' for i in range(max(all_targets) + 1)]))\n"
      ]
    },
    {
      "cell_type": "code",
      "execution_count": 14,
      "id": "c7bb827a-1680-4e24-96b0-6cca8631c76e",
      "metadata": {
        "colab": {
          "base_uri": "https://localhost:8080/"
        },
        "id": "c7bb827a-1680-4e24-96b0-6cca8631c76e",
        "outputId": "e541b88f-4055-433b-b490-b3a84679af64"
      },
      "outputs": [
        {
          "output_type": "stream",
          "name": "stdout",
          "text": [
            "Confusion Matrix and Classification Report:\n",
            "[[11  2  1  0  0  0  0  0]\n",
            " [ 3  8  3  2  2  0  1  0]\n",
            " [ 0  3  6  3  1  0  0  1]\n",
            " [ 0  0  3  7  2  1  1  4]\n",
            " [ 0  0  0  5  3  1  1  0]\n",
            " [ 0  0  0  0  4  5  0  3]\n",
            " [ 0  0  0  0  0  0  0  2]\n",
            " [ 0  0  0  0  0  0  1  4]]\n",
            "               precision    recall  f1-score   support\n",
            "\n",
            "  Class 30-39       0.79      0.79      0.79        14\n",
            "  Class 40-49       0.62      0.42      0.50        19\n",
            "  Class 50-59       0.46      0.43      0.44        14\n",
            "  Class 60-69       0.41      0.39      0.40        18\n",
            "  Class 70-79       0.25      0.30      0.27        10\n",
            "  Class 80-89       0.71      0.42      0.53        12\n",
            "  Class 90-99       0.00      0.00      0.00         2\n",
            "Class 100-109       0.29      0.80      0.42         5\n",
            "\n",
            "     accuracy                           0.47        94\n",
            "    macro avg       0.44      0.44      0.42        94\n",
            " weighted avg       0.52      0.47      0.48        94\n",
            "\n"
          ]
        },
        {
          "output_type": "execute_result",
          "data": {
            "text/plain": [
              "46.808510638297875"
            ]
          },
          "metadata": {},
          "execution_count": 14
        }
      ],
      "source": [
        "from sklearn.metrics import classification_report\n",
        "from sklearn.metrics import confusion_matrix\n",
        "def evaluate(model, test_loader):\n",
        "    model.eval()\n",
        "    correct_test = 0\n",
        "    total_test = 0\n",
        "    all_preds = []\n",
        "    all_targets = []\n",
        "    with torch.no_grad():\n",
        "        for inputs, targets in test_loader:\n",
        "            inputs, targets = inputs.to(device), targets.to(device)  # Ensure inputs and targets are on the same device as model\n",
        "            outputs = model(inputs)\n",
        "            _, predicted = torch.max(outputs.data, 1)\n",
        "            correct_test += (predicted == targets).sum().item()\n",
        "            total_test += targets.size(0)\n",
        "            all_preds.extend(predicted.cpu().numpy())\n",
        "            all_targets.extend(targets.cpu().numpy())\n",
        "\n",
        "    test_accuracy = 100 * correct_test / total_test\n",
        "    print(\"Confusion Matrix and Classification Report:\")\n",
        "    print_confusion_matrix_and_report(all_targets, all_preds)\n",
        "    return test_accuracy\n",
        "evaluate(model, test_loader)"
      ]
    },
    {
      "cell_type": "code",
      "source": [],
      "metadata": {
        "id": "lHk1HAhXs2Ul"
      },
      "id": "lHk1HAhXs2Ul",
      "execution_count": null,
      "outputs": []
    }
  ],
  "metadata": {
    "kernelspec": {
      "display_name": "Python 3",
      "name": "python3"
    },
    "language_info": {
      "codemirror_mode": {
        "name": "ipython",
        "version": 3
      },
      "file_extension": ".py",
      "mimetype": "text/x-python",
      "name": "python",
      "nbconvert_exporter": "python",
      "pygments_lexer": "ipython3",
      "version": "3.9.0"
    },
    "colab": {
      "provenance": [],
      "machine_shape": "hm",
      "gpuType": "L4",
      "include_colab_link": true
    },
    "accelerator": "GPU"
  },
  "nbformat": 4,
  "nbformat_minor": 5
}