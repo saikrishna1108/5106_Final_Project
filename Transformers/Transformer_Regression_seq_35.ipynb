{
  "cells": [
    {
      "cell_type": "markdown",
      "metadata": {
        "id": "view-in-github",
        "colab_type": "text"
      },
      "source": [
        "<a href=\"https://colab.research.google.com/github/saikrishna1108/5106_Final_Project/blob/main/Transformers/Transformer_Regression_seq_35.ipynb\" target=\"_parent\"><img src=\"https://colab.research.google.com/assets/colab-badge.svg\" alt=\"Open In Colab\"/></a>"
      ]
    },
    {
      "cell_type": "code",
      "source": [],
      "metadata": {
        "id": "63w-QUrHuoFa"
      },
      "id": "63w-QUrHuoFa",
      "execution_count": null,
      "outputs": []
    },
    {
      "cell_type": "code",
      "source": [
        "from google.colab import drive\n",
        "drive.mount('/content/drive')"
      ],
      "metadata": {
        "colab": {
          "base_uri": "https://localhost:8080/"
        },
        "id": "1LyPGVX1uqwy",
        "outputId": "3d345e0d-22e4-4764-ab4a-b6537583c339"
      },
      "id": "1LyPGVX1uqwy",
      "execution_count": 1,
      "outputs": [
        {
          "output_type": "stream",
          "name": "stdout",
          "text": [
            "Mounted at /content/drive\n"
          ]
        }
      ]
    },
    {
      "cell_type": "code",
      "source": [
        "import os\n",
        "os.chdir('/content/drive/MyDrive/rtml/5106_Final_Project/5106_Final_Project')"
      ],
      "metadata": {
        "id": "_HO3ArJS6Bi8"
      },
      "id": "_HO3ArJS6Bi8",
      "execution_count": 2,
      "outputs": []
    },
    {
      "cell_type": "code",
      "execution_count": 23,
      "id": "8274fb08-dd95-413b-b425-cbaa3c77e493",
      "metadata": {
        "id": "8274fb08-dd95-413b-b425-cbaa3c77e493"
      },
      "outputs": [],
      "source": [
        "import os\n",
        "import torch\n",
        "import numpy as np\n",
        "import random\n",
        "from torch.utils.data import DataLoader, Dataset\n",
        "import math\n",
        "\n",
        "class SpeedDataset(Dataset):\n",
        "    def __init__(self, directory, sequence_length=5, augment=True):\n",
        "        self.data = []\n",
        "        self.sequence_length = sequence_length\n",
        "        # self.num_classes = (105 - 30) // 10 + 1  # Speed classes from 30-39, ..., 100-105\n",
        "        self.augment = augment  # Enable or disable augmentation\n",
        "        self.preprocess_data(directory)\n",
        "        self.normalize_features()\n",
        "\n",
        "    def preprocess_data(self, directory):\n",
        "        for filename in os.listdir(directory):\n",
        "            if filename.endswith('.txt'):\n",
        "                speed = float(filename.split('_')[-1].replace('.txt', ''))\n",
        "                # speed_class = 0 if speed < 30 else (int(speed) - 30) // 10\n",
        "                filepath = os.path.join(directory, filename)\n",
        "                with open(filepath, 'r') as file:\n",
        "                    track_data = {}\n",
        "                    for line in file:\n",
        "                        points = line.strip().split(',')\n",
        "                        if len(points) == 6:\n",
        "                            frame, track_id, x1, y1, x2, y2 = map(float, line.strip().split(','))\n",
        "                        if len(points) == 7:\n",
        "                            frame,class_id, track_id, x1, y1, x2, y2 = map(float, line.strip().split(','))\n",
        "                        if track_id not in track_data:\n",
        "                            track_data[track_id] = []\n",
        "                        track_data[track_id].append([x1, y1, x2, y2])\n",
        "\n",
        "                    for track_id, frames in track_data.items():\n",
        "                        if len(frames) >= self.sequence_length:\n",
        "                            features = self.extract_features(frames)\n",
        "                            overlap = 30  # Overlap for sequence extraction\n",
        "                            for start_idx in range(0, len(features) - self.sequence_length + 1, self.sequence_length - overlap):\n",
        "                                end_idx = start_idx + self.sequence_length\n",
        "                                sequence = features[start_idx:end_idx]\n",
        "                                self.data.append((sequence, speed))\n",
        "\n",
        "    def extract_features(self, frames):\n",
        "        features = []\n",
        "        for i in range(1, len(frames)):\n",
        "            current_frame = frames[i]\n",
        "            previous_frame = frames[i-1]\n",
        "            features.append(self.compute_frame_features(current_frame, previous_frame))\n",
        "        return features\n",
        "\n",
        "    def compute_frame_features(self, current_frame, previous_frame):\n",
        "        x1, y1, x2, y2 = current_frame\n",
        "        px1, py1, px2, py2 = previous_frame\n",
        "\n",
        "        width, height = x2 - x1, y2 - y1\n",
        "        p_width, p_height = px2 - px1, py2 - py1\n",
        "\n",
        "        x2_change = x2 - px2\n",
        "        y2_change = y2 - py2\n",
        "        x1_change = x1 - px1\n",
        "        y1_change = y1 - py1\n",
        "\n",
        "        width_change = width - p_width\n",
        "        height_change = height - p_height\n",
        "        area_change = (width * height) - (p_width * p_height)\n",
        "        perimeter_change = (2 * (width + height)) - (2 * (p_width + p_height))\n",
        "\n",
        "        center_x, center_y = (x1 + x2) / 2, (y1 + y2) / 2\n",
        "        p_center_x, p_center_y = (px1 + px2) / 2, (py1 + py2) / 2\n",
        "        center_x_change = center_x - p_center_x\n",
        "        center_y_change = center_y - p_center_y\n",
        "        distance_moved = math.sqrt(center_x_change ** 2 + center_y_change ** 2)\n",
        "\n",
        "        velocity = distance_moved/0.03  # Assuming constant frame rate\n",
        "        p_velocity = (math.sqrt((px2 - px1) ** 2 + (py2 - py1) ** 2))/0.03\n",
        "        acceleration = abs(velocity - p_velocity)\n",
        "\n",
        "        feature_vector = [x1_change, y1_change, x2_change, y2_change,\n",
        "                          center_x_change, center_y_change, distance_moved, velocity, acceleration]\n",
        "        return feature_vector\n",
        "\n",
        "    def normalize_features(self):\n",
        "        all_features = [feature for sequence, _ in self.data for feature in sequence]\n",
        "        all_features = np.array(all_features)\n",
        "        self.mean = np.mean(all_features, axis=0)\n",
        "        self.std = np.std(all_features, axis=0)\n",
        "        for i, (sequence, speed) in enumerate(self.data):\n",
        "            normalized_sequence = (sequence - self.mean) / (self.std)\n",
        "            self.data[i] = (normalized_sequence, speed)\n",
        "\n",
        "    def __len__(self):\n",
        "        return len(self.data)\n",
        "\n",
        "    def __getitem__(self, idx):\n",
        "        inputs, output = self.data[idx]\n",
        "        if self.augment:\n",
        "            inputs = self.apply_augmentation(inputs)\n",
        "        return torch.tensor(inputs, dtype=torch.float32), torch.tensor(output, dtype=torch.float32)\n",
        "\n",
        "    def apply_augmentation(self, inputs):\n",
        "        if random.random() > 0.9:\n",
        "            inputs = self.add_noise(inputs)\n",
        "        if random.random() > 0.99:\n",
        "            inputs = self.time_shift(inputs, shift=random.choice([-1, 1]))\n",
        "        if random.random() > 0.95:\n",
        "            inputs = self.scale_features(inputs, scale=random.uniform(0.9, 1.1))\n",
        "        if random.random() > 0.98:\n",
        "            inputs = self.mirror_features(inputs)\n",
        "        return inputs\n",
        "\n",
        "    def add_noise(self, features, noise_level=0.05):\n",
        "        noise = np.random.normal(0, noise_level, features.shape)\n",
        "        return features + noise\n",
        "\n",
        "    def time_shift(self, features, shift=1):\n",
        "        if shift > 0:\n",
        "            return np.vstack([np.zeros((shift, features.shape[1])), features[:-shift]])\n",
        "        elif shift < 0:\n",
        "            return np.vstack([features[-shift:], np.zeros((-shift, features.shape[1]))])\n",
        "        return features\n",
        "\n",
        "    def scale_features(self, features, scale=1.1):\n",
        "        return features * scale\n",
        "\n",
        "    def mirror_features(self, features):\n",
        "        features_copy = features.copy()\n",
        "        features_copy[:, [0, 2]] = -features_copy[:, [0, 2]]  # Assume these indices are the x-coordinates\n",
        "        return features_copy\n"
      ]
    },
    {
      "cell_type": "code",
      "execution_count": 24,
      "id": "3ae371d5-42ea-4de2-bf83-f858f761eda9",
      "metadata": {
        "colab": {
          "base_uri": "https://localhost:8080/"
        },
        "id": "3ae371d5-42ea-4de2-bf83-f858f761eda9",
        "outputId": "63208f4a-cce8-4034-ddf5-2f85849018ff"
      },
      "outputs": [
        {
          "output_type": "stream",
          "name": "stdout",
          "text": [
            "Using device: cuda\n"
          ]
        }
      ],
      "source": [
        "import torch\n",
        "\n",
        "# Check for CUDA\n",
        "device = torch.device(\"cuda\" if torch.cuda.is_available() else \"cpu\")\n",
        "print(\"Using device:\", device)\n"
      ]
    },
    {
      "cell_type": "code",
      "execution_count": 25,
      "id": "ed8f5011-9e3a-40cc-9fb2-6a8fa52baf1e",
      "metadata": {
        "id": "ed8f5011-9e3a-40cc-9fb2-6a8fa52baf1e"
      },
      "outputs": [],
      "source": [
        "import torch\n",
        "import torch.nn as nn\n",
        "import torch.nn.functional as F\n",
        "import math\n",
        "\n",
        "class PositionalEncoding(nn.Module):\n",
        "    def __init__(self, d_model, max_len=5000):\n",
        "        super(PositionalEncoding, self).__init__()\n",
        "        self.dropout = nn.Dropout(p=0.1)\n",
        "\n",
        "        pe = torch.zeros(max_len, d_model)\n",
        "        position = torch.arange(0, max_len, dtype=torch.float).unsqueeze(1)\n",
        "        div_term = torch.exp(torch.arange(0, d_model, 2).float() * (-math.log(10000.0) / d_model))\n",
        "        pe[:, 0::2] = torch.sin(position * div_term)\n",
        "        pe[:, 1::2] = torch.cos(position * div_term)\n",
        "        pe = pe.unsqueeze(0).transpose(0, 1)\n",
        "        self.register_buffer('pe', pe)\n",
        "\n",
        "    def forward(self, x):\n",
        "        x = x + self.pe[:x.size(0), :]\n",
        "        return self.dropout(x)\n",
        "\n",
        "class SpeedPredictor(nn.Module):\n",
        "    def __init__(self, sequence_length, feature_size, hidden_dim, output_size):\n",
        "        super(SpeedPredictor, self).__init__()\n",
        "        self.embedding = nn.Conv1d(in_channels=feature_size, out_channels=hidden_dim, kernel_size=1)\n",
        "        self.pos_encoder = PositionalEncoding(hidden_dim)\n",
        "        self.encoder_layer = nn.TransformerEncoderLayer(d_model=hidden_dim, nhead=4, dim_feedforward=hidden_dim * 4, dropout=0.4)\n",
        "        self.transformer_encoder = nn.TransformerEncoder(self.encoder_layer, num_layers=2)\n",
        "        self.fc1 = nn.Linear(hidden_dim, 16)\n",
        "        self.relu = nn.ReLU()\n",
        "        self.dropout = nn.Dropout(0.5)\n",
        "        self.fc2 = nn.Linear(16, output_size)\n",
        "\n",
        "    def forward(self, x):\n",
        "        x = x.permute(0, 2, 1)\n",
        "        x = self.embedding(x)\n",
        "        x = x.permute(0, 2, 1)\n",
        "        x = x.permute(1, 0, 2)\n",
        "        x = self.pos_encoder(x)\n",
        "        x = self.transformer_encoder(x)\n",
        "        x = x.permute(1, 0, 2)  # Switch back to (batch, seq_len, features)\n",
        "        x = x[:, -1, :]  # Only use the last sequence output for prediction\n",
        "        x = self.fc1(x)\n",
        "        x = self.relu(x)\n",
        "        x = self.dropout(x)\n",
        "        x = self.fc2(x)\n",
        "        return x\n",
        "\n",
        "def init_weights(m):\n",
        "    if isinstance(m, nn.Linear):\n",
        "        nn.init.kaiming_normal_(m.weight)\n",
        "        nn.init.constant_(m.bias, 0)\n"
      ]
    },
    {
      "cell_type": "code",
      "execution_count": 26,
      "id": "2d0c9e53-e565-4eb9-9867-5e2f6181cb4b",
      "metadata": {
        "id": "2d0c9e53-e565-4eb9-9867-5e2f6181cb4b"
      },
      "outputs": [],
      "source": [
        "def train_and_validate(model, train_loader, val_loader, criterion, optimizer,scheduler, epochs):\n",
        "    train_losses = []\n",
        "    val_losses = []\n",
        "\n",
        "    for epoch in range(epochs+1):\n",
        "        # Training\n",
        "        model.train()\n",
        "        total_train_loss = 0\n",
        "        for inputs, speeds in train_loader:\n",
        "            inputs, speeds = inputs.to(device), speeds.to(device)\n",
        "            optimizer.zero_grad()\n",
        "            outputs = model(inputs)\n",
        "            outputs = outputs.squeeze()\n",
        "            if outputs.shape != speeds.shape:\n",
        "                outputs = outputs[:speeds.size(0)]\n",
        "            loss = criterion(outputs, speeds)\n",
        "            loss.backward()\n",
        "            optimizer.step()\n",
        "            total_train_loss += loss.item()\n",
        "        scheduler.step()\n",
        "        avg_train_loss = total_train_loss / len(train_loader)\n",
        "        train_losses.append(avg_train_loss)\n",
        "\n",
        "        # Validation\n",
        "        model.eval()\n",
        "        total_val_loss = 0\n",
        "        with torch.no_grad():\n",
        "            for inputs, speeds in val_loader:\n",
        "                inputs, speeds= inputs.to(device), speeds.to(device)\n",
        "                outputs = model(inputs)\n",
        "                outputs = outputs.squeeze()\n",
        "\n",
        "                if outputs.shape != speeds.shape:\n",
        "                    outputs = outputs[:speeds.size(0)]\n",
        "                loss = torch.sqrt(criterion(outputs, speeds))\n",
        "                total_val_loss += loss.item()\n",
        "        avg_val_loss = total_val_loss / len(val_loader)\n",
        "        val_losses.append(avg_val_loss)\n",
        "        if epoch % 10 ==0:\n",
        "            print(f'Epoch {epoch}/{epochs}, MSE training Loss: {avg_train_loss:.4f}, RMSE validation Loss: {avg_val_loss:.4f}')\n",
        "\n",
        "    return train_losses, val_losses\n"
      ]
    },
    {
      "cell_type": "code",
      "source": [],
      "metadata": {
        "id": "U9WjbXek9Vbx"
      },
      "id": "U9WjbXek9Vbx",
      "execution_count": 26,
      "outputs": []
    },
    {
      "cell_type": "code",
      "execution_count": 27,
      "id": "2724bba8-89eb-4604-961b-8331924b3eaa",
      "metadata": {
        "id": "2724bba8-89eb-4604-961b-8331924b3eaa"
      },
      "outputs": [],
      "source": [
        "import torch\n",
        "from torch.utils.data import DataLoader, random_split\n",
        "import matplotlib.pyplot as plt\n",
        "import torch.optim as optim\n",
        "from torch.optim.lr_scheduler import ExponentialLR\n",
        "\n",
        "train_dataset = SpeedDataset('./Dataset/Train/', sequence_length=35)\n",
        "test_dataset = SpeedDataset('./Dataset/Test/', sequence_length=35)\n",
        "train_loader = DataLoader(train_dataset, batch_size=64, shuffle=True)\n",
        "test_loader = DataLoader(test_dataset, batch_size=64, shuffle=False)"
      ]
    },
    {
      "cell_type": "code",
      "execution_count": 28,
      "id": "ae7da94d-c927-4f05-8273-1ebf02f1f134",
      "metadata": {
        "id": "ae7da94d-c927-4f05-8273-1ebf02f1f134",
        "outputId": "3b1ef1f2-c623-4d38-a6f8-55c16a00cb54",
        "colab": {
          "base_uri": "https://localhost:8080/"
        }
      },
      "outputs": [
        {
          "output_type": "stream",
          "name": "stdout",
          "text": [
            "Epoch 0/200, MSE training Loss: 3124.4667, RMSE validation Loss: 45.5287\n",
            "Epoch 10/200, MSE training Loss: 1020.5750, RMSE validation Loss: 18.5848\n",
            "Epoch 20/200, MSE training Loss: 622.0721, RMSE validation Loss: 7.7232\n",
            "Epoch 30/200, MSE training Loss: 569.4354, RMSE validation Loss: 7.6813\n",
            "Epoch 40/200, MSE training Loss: 533.5748, RMSE validation Loss: 5.1940\n",
            "Epoch 50/200, MSE training Loss: 520.0817, RMSE validation Loss: 4.9609\n",
            "Epoch 60/200, MSE training Loss: 540.5946, RMSE validation Loss: 4.7533\n",
            "Epoch 70/200, MSE training Loss: 535.8587, RMSE validation Loss: 5.9438\n",
            "Epoch 80/200, MSE training Loss: 530.2612, RMSE validation Loss: 5.9123\n",
            "Epoch 90/200, MSE training Loss: 504.6270, RMSE validation Loss: 6.9899\n",
            "Epoch 100/200, MSE training Loss: 540.3833, RMSE validation Loss: 4.7221\n",
            "Epoch 110/200, MSE training Loss: 505.2087, RMSE validation Loss: 4.7554\n",
            "Epoch 120/200, MSE training Loss: 519.5165, RMSE validation Loss: 5.8329\n",
            "Epoch 130/200, MSE training Loss: 511.6953, RMSE validation Loss: 4.7738\n",
            "Epoch 140/200, MSE training Loss: 507.8466, RMSE validation Loss: 4.9162\n",
            "Epoch 150/200, MSE training Loss: 507.4144, RMSE validation Loss: 6.0451\n",
            "Epoch 160/200, MSE training Loss: 508.8500, RMSE validation Loss: 5.5231\n",
            "Epoch 170/200, MSE training Loss: 502.1110, RMSE validation Loss: 5.8871\n",
            "Epoch 180/200, MSE training Loss: 499.5091, RMSE validation Loss: 7.3059\n",
            "Epoch 190/200, MSE training Loss: 507.9676, RMSE validation Loss: 4.3052\n",
            "Epoch 200/200, MSE training Loss: 497.8639, RMSE validation Loss: 6.2850\n"
          ]
        }
      ],
      "source": [
        "# Model, Loss, and Optimizer\n",
        "device = torch.device(\"cuda\" if torch.cuda.is_available() else \"cpu\")\n",
        "model = SpeedPredictor(sequence_length=35, feature_size=9, hidden_dim=128, output_size=1)\n",
        "model.to(device)\n",
        "model.apply(init_weights)\n",
        "criterion = nn.MSELoss()\n",
        "optimizer = optim.Adam(model.parameters(), lr=0.0001)\n",
        "\n",
        "# Scheduler for learning rate adjustment\n",
        "scheduler = ExponentialLR(optimizer, gamma=0.9999999999)\n",
        "train_losses,val_losses = train_and_validate(model, train_loader, test_loader, criterion, optimizer, scheduler, epochs=200)"
      ]
    },
    {
      "cell_type": "code",
      "execution_count": 29,
      "id": "f6327d1c-8724-4475-b617-94d4f91a8a0a",
      "metadata": {
        "id": "f6327d1c-8724-4475-b617-94d4f91a8a0a",
        "outputId": "00f3ea74-51c6-42d2-caef-d695550ef1f4",
        "colab": {
          "base_uri": "https://localhost:8080/",
          "height": 487
        }
      },
      "outputs": [
        {
          "output_type": "display_data",
          "data": {
            "text/plain": [
              "<Figure size 1000x500 with 1 Axes>"
            ],
            "image/png": "[encoded data removed]"
          },
          "metadata": {}
        }
      ],
      "source": [
        "# Plotting training and validation loss\n",
        "plt.figure(figsize=(10, 5))\n",
        "plt.plot(range(0, 200+1), train_losses, label='Training Loss')\n",
        "plt.plot(range(0, 200+1), val_losses, label='Validation Loss')\n",
        "plt.xlabel('Epochs')\n",
        "plt.ylabel('Loss')\n",
        "plt.title('Transformer Training and Validation Loss')\n",
        "plt.legend()\n",
        "plt.show()"
      ]
    },
    {
      "cell_type": "code",
      "execution_count": 33,
      "id": "4a7c9786-8484-4edc-bbcf-400a710bf5a0",
      "metadata": {
        "id": "4a7c9786-8484-4edc-bbcf-400a710bf5a0"
      },
      "outputs": [],
      "source": [
        "\n",
        "torch.save(model, 'Transformer_Regression_35_seq.pth')\n"
      ]
    },
    {
      "cell_type": "code",
      "execution_count": 34,
      "id": "040290bf-c29d-466a-a73f-3d3e6033a161",
      "metadata": {
        "id": "040290bf-c29d-466a-a73f-3d3e6033a161",
        "outputId": "b27ddf1f-3be8-42cd-d92b-3638bebc4c66",
        "colab": {
          "base_uri": "https://localhost:8080/"
        }
      },
      "outputs": [
        {
          "output_type": "execute_result",
          "data": {
            "text/plain": [
              "SpeedPredictor(\n",
              "  (embedding): Conv1d(9, 128, kernel_size=(1,), stride=(1,))\n",
              "  (pos_encoder): PositionalEncoding(\n",
              "    (dropout): Dropout(p=0.1, inplace=False)\n",
              "  )\n",
              "  (encoder_layer): TransformerEncoderLayer(\n",
              "    (self_attn): MultiheadAttention(\n",
              "      (out_proj): NonDynamicallyQuantizableLinear(in_features=128, out_features=128, bias=True)\n",
              "    )\n",
              "    (linear1): Linear(in_features=128, out_features=512, bias=True)\n",
              "    (dropout): Dropout(p=0.4, inplace=False)\n",
              "    (linear2): Linear(in_features=512, out_features=128, bias=True)\n",
              "    (norm1): LayerNorm((128,), eps=1e-05, elementwise_affine=True)\n",
              "    (norm2): LayerNorm((128,), eps=1e-05, elementwise_affine=True)\n",
              "    (dropout1): Dropout(p=0.4, inplace=False)\n",
              "    (dropout2): Dropout(p=0.4, inplace=False)\n",
              "  )\n",
              "  (transformer_encoder): TransformerEncoder(\n",
              "    (layers): ModuleList(\n",
              "      (0-1): 2 x TransformerEncoderLayer(\n",
              "        (self_attn): MultiheadAttention(\n",
              "          (out_proj): NonDynamicallyQuantizableLinear(in_features=128, out_features=128, bias=True)\n",
              "        )\n",
              "        (linear1): Linear(in_features=128, out_features=512, bias=True)\n",
              "        (dropout): Dropout(p=0.4, inplace=False)\n",
              "        (linear2): Linear(in_features=512, out_features=128, bias=True)\n",
              "        (norm1): LayerNorm((128,), eps=1e-05, elementwise_affine=True)\n",
              "        (norm2): LayerNorm((128,), eps=1e-05, elementwise_affine=True)\n",
              "        (dropout1): Dropout(p=0.4, inplace=False)\n",
              "        (dropout2): Dropout(p=0.4, inplace=False)\n",
              "      )\n",
              "    )\n",
              "  )\n",
              "  (fc1): Linear(in_features=128, out_features=16, bias=True)\n",
              "  (relu): ReLU()\n",
              "  (dropout): Dropout(p=0.5, inplace=False)\n",
              "  (fc2): Linear(in_features=16, out_features=1, bias=True)\n",
              ")"
            ]
          },
          "metadata": {},
          "execution_count": 34
        }
      ],
      "source": [
        "# Load the entire model\n",
        "model = torch.load('Transformer_Regression_35_seq.pth').to(device)\n",
        "model.eval()  # Set the model to evaluation mode\n"
      ]
    },
    {
      "cell_type": "code",
      "execution_count": 40,
      "id": "5d72a07d-080a-420a-9682-a55ff279a135",
      "metadata": {
        "id": "5d72a07d-080a-420a-9682-a55ff279a135",
        "outputId": "4a8fab24-ecdf-40b1-ccb9-08951119d2cd",
        "colab": {
          "base_uri": "https://localhost:8080/"
        }
      },
      "outputs": [
        {
          "output_type": "stream",
          "name": "stdout",
          "text": [
            "Predicted: 69.5040, Actual: 67.0000\n",
            "Predicted: 73.0979, Actual: 70.0000\n",
            "Predicted: 67.7949, Actual: 61.0000\n",
            "Predicted: 41.6973, Actual: 35.0000\n",
            "Predicted: 57.1915, Actual: 49.0000\n",
            "Predicted: 70.9421, Actual: 68.0000\n",
            "Predicted: 69.3695, Actual: 64.0000\n",
            "Predicted: 74.8597, Actual: 86.0000\n",
            "Predicted: 74.3444, Actual: 70.0000\n",
            "Predicted: 74.5574, Actual: 80.0000\n",
            "Predicted: 71.0557, Actual: 61.0000\n",
            "Predicted: 36.2385, Actual: 30.0000\n",
            "Predicted: 52.8704, Actual: 44.0000\n",
            "Predicted: 35.2649, Actual: 30.0000\n",
            "Predicted: 75.2244, Actual: 80.0000\n",
            "Predicted: 74.9430, Actual: 72.0000\n",
            "Predicted: 53.3724, Actual: 44.0000\n",
            "Predicted: 74.8060, Actual: 61.0000\n",
            "Predicted: 87.7003, Actual: 82.0000\n",
            "Predicted: 74.7697, Actual: 80.0000\n",
            "Predicted: 73.8748, Actual: 72.0000\n",
            "Predicted: 51.8642, Actual: 43.0000\n",
            "Predicted: 61.8848, Actual: 57.0000\n",
            "Predicted: 60.1576, Actual: 51.0000\n",
            "Predicted: 51.9508, Actual: 44.0000\n",
            "Predicted: 48.2662, Actual: 43.0000\n",
            "Predicted: 59.2521, Actual: 54.0000\n",
            "Predicted: 59.0443, Actual: 49.0000\n",
            "Predicted: 65.8290, Actual: 54.0000\n",
            "Predicted: 51.2492, Actual: 44.0000\n",
            "Predicted: 68.3119, Actual: 68.0000\n",
            "Predicted: 68.8001, Actual: 64.0000\n",
            "Predicted: 37.2309, Actual: 30.0000\n",
            "Predicted: 78.5621, Actual: 74.0000\n",
            "Predicted: 72.0837, Actual: 68.0000\n",
            "Predicted: 31.2150, Actual: 30.0000\n",
            "Predicted: 93.3405, Actual: 100.0000\n",
            "Predicted: 71.6785, Actual: 75.0000\n",
            "Predicted: 48.2797, Actual: 43.0000\n",
            "Predicted: 85.6357, Actual: 82.0000\n",
            "Predicted: 68.7072, Actual: 68.0000\n",
            "Predicted: 88.5534, Actual: 82.0000\n",
            "Predicted: 89.5215, Actual: 82.0000\n",
            "Predicted: 31.9598, Actual: 30.0000\n",
            "Predicted: 59.8084, Actual: 67.0000\n",
            "Predicted: 38.1124, Actual: 38.0000\n",
            "Predicted: 82.3478, Actual: 86.0000\n",
            "Predicted: 43.5939, Actual: 44.0000\n",
            "Predicted: 35.8786, Actual: 35.0000\n",
            "Predicted: 46.9947, Actual: 43.0000\n",
            "15.615144103765488\n"
          ]
        }
      ],
      "source": [
        "import random\n",
        "def predict_and_compare(model, test_loader):\n",
        "    model.eval()  # Ensure the model is in evaluation mode\n",
        "    predictions = []\n",
        "    actuals = []\n",
        "    total_loss = 0\n",
        "    with torch.no_grad():  # No need to track gradients\n",
        "        for inputs, targets in test_loader:\n",
        "            inputs, targets = inputs.to(device), targets.to(device)\n",
        "            outputs = model(inputs)\n",
        "            predictions.extend(outputs.squeeze().tolist())\n",
        "            actuals.extend(targets.tolist())\n",
        "            loss = torch.sqrt(criterion(outputs, targets))\n",
        "            if outputs.shape != targets.shape:\n",
        "                outputs = outputs[:targets.size(0)]\n",
        "            total_loss += loss.item()\n",
        "    return predictions, actuals, total_loss/len(test_loader)\n",
        "\n",
        "test_dataset = SpeedDataset('./Dataset/Test/', sequence_length=35)\n",
        "test_loader = DataLoader(test_dataset, batch_size=32, shuffle=False)\n",
        "predictions, actuals, loss = predict_and_compare(model, test_loader)\n",
        "\n",
        "def print_random_predictions(predictions, actuals, num_samples=30):\n",
        "    if len(predictions) < num_samples:\n",
        "        num_samples = len(predictions)  # Adjust sample size if predictions are fewer than requested\n",
        "\n",
        "    # Get random sample indices\n",
        "    sample_indices = random.sample(range(len(predictions)), num_samples)\n",
        "\n",
        "    # Print the randomly selected predictions and their actual values\n",
        "    for idx in sample_indices:\n",
        "        print(f\"Predicted: {predictions[idx]:.4f}, Actual: {actuals[idx]:.4f}\")\n",
        "\n",
        "# Assuming you have already executed the predict_and_compare function\n",
        "# predictions, actuals = predict_and_compare(model, val_loader)\n",
        "\n",
        "# Now print randomly selected 30 predictions and their actual values\n",
        "print_random_predictions(predictions, actuals, 50)\n",
        "print(loss)"
      ]
    },
    {
      "cell_type": "code",
      "execution_count": 15,
      "id": "c19a24ef-764e-4583-bd61-47c40571131c",
      "metadata": {
        "id": "c19a24ef-764e-4583-bd61-47c40571131c"
      },
      "outputs": [],
      "source": []
    }
  ],
  "metadata": {
    "kernelspec": {
      "display_name": "Python 3",
      "name": "python3"
    },
    "language_info": {
      "codemirror_mode": {
        "name": "ipython",
        "version": 3
      },
      "file_extension": ".py",
      "mimetype": "text/x-python",
      "name": "python",
      "nbconvert_exporter": "python",
      "pygments_lexer": "ipython3",
      "version": "3.9.0"
    },
    "colab": {
      "provenance": [],
      "machine_shape": "hm",
      "gpuType": "L4",
      "include_colab_link": true
    },
    "accelerator": "GPU"
  },
  "nbformat": 4,
  "nbformat_minor": 5
}