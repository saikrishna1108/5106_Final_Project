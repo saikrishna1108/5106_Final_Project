{
  "cells": [
    {
      "cell_type": "markdown",
      "metadata": {
        "id": "view-in-github",
        "colab_type": "text"
      },
      "source": [
        "<a href=\"https://colab.research.google.com/github/saikrishna1108/5106_Final_Project/blob/main/Transformers/Transformer_Classification_with_seq_35.ipynb\" target=\"_parent\"><img src=\"https://colab.research.google.com/assets/colab-badge.svg\" alt=\"Open In Colab\"/></a>"
      ]
    },
    {
      "cell_type": "code",
      "source": [],
      "metadata": {
        "id": "HkcGZDEStFWm"
      },
      "id": "HkcGZDEStFWm",
      "execution_count": null,
      "outputs": []
    },
    {
      "cell_type": "code",
      "source": [
        "from google.colab import drive\n",
        "drive.mount('/content/drive')"
      ],
      "metadata": {
        "colab": {
          "base_uri": "https://localhost:8080/"
        },
        "id": "gSSU2dtCtGjd",
        "outputId": "3636a97b-d718-4e80-ac95-5461e36b967e"
      },
      "id": "gSSU2dtCtGjd",
      "execution_count": 1,
      "outputs": [
        {
          "output_type": "stream",
          "name": "stdout",
          "text": [
            "Mounted at /content/drive\n"
          ]
        }
      ]
    },
    {
      "cell_type": "code",
      "source": [
        "import os\n",
        "os.chdir('/content/drive/MyDrive/rtml/5106_Final_Project/5106_Final_Project')"
      ],
      "metadata": {
        "id": "kNBl7NMqrF10"
      },
      "id": "kNBl7NMqrF10",
      "execution_count": 2,
      "outputs": []
    },
    {
      "cell_type": "code",
      "execution_count": 3,
      "id": "450b68b7-329c-4a25-92cf-9dd033b1e484",
      "metadata": {
        "id": "450b68b7-329c-4a25-92cf-9dd033b1e484"
      },
      "outputs": [],
      "source": [
        "import os\n",
        "import torch\n",
        "import numpy as np\n",
        "import random\n",
        "from torch.utils.data import DataLoader, Dataset\n",
        "import math\n",
        "\n",
        "class SpeedDataset(Dataset):\n",
        "    def __init__(self, directory, sequence_length=5, augment=True):\n",
        "        self.data = []\n",
        "        self.sequence_length = sequence_length\n",
        "        self.num_classes = (105 - 30) // 10 + 1  # Speed classes from 30-39, ..., 100-105\n",
        "        self.augment = augment  # Enable or disable augmentation\n",
        "        self.preprocess_data(directory)\n",
        "        self.normalize_features()\n",
        "\n",
        "    def preprocess_data(self, directory):\n",
        "        for filename in os.listdir(directory):\n",
        "            if filename.endswith('.txt'):\n",
        "                speed = float(filename.split('_')[-1].replace('.txt', ''))\n",
        "                speed_class = 0 if speed < 30 else (int(speed) - 30) // 10\n",
        "                filepath = os.path.join(directory, filename)\n",
        "                with open(filepath, 'r') as file:\n",
        "                    track_data = {}\n",
        "                    for line in file:\n",
        "                        points = line.strip().split(',')\n",
        "                        if len(points) == 6:\n",
        "                            frame, track_id, x1, y1, x2, y2 = map(float, line.strip().split(','))\n",
        "                        if len(points) == 7:\n",
        "                            frame,class_id, track_id, x1, y1, x2, y2 = map(float, line.strip().split(','))\n",
        "                        if track_id not in track_data:\n",
        "                            track_data[track_id] = []\n",
        "                        track_data[track_id].append([x1, y1, x2, y2])\n",
        "\n",
        "                    for track_id, frames in track_data.items():\n",
        "                        if len(frames) >= self.sequence_length:\n",
        "                            features = self.extract_features(frames)\n",
        "                            overlap = 30  # Overlap for sequence extraction\n",
        "                            for start_idx in range(0, len(features) - self.sequence_length + 1, self.sequence_length - overlap):\n",
        "                                end_idx = start_idx + self.sequence_length\n",
        "                                sequence = features[start_idx:end_idx]\n",
        "                                self.data.append((sequence, speed_class))\n",
        "\n",
        "    def extract_features(self, frames):\n",
        "        features = []\n",
        "        for i in range(1, len(frames)):\n",
        "            current_frame = frames[i]\n",
        "            previous_frame = frames[i-1]\n",
        "            features.append(self.compute_frame_features(current_frame, previous_frame))\n",
        "        return features\n",
        "\n",
        "    def compute_frame_features(self, current_frame, previous_frame):\n",
        "        x1, y1, x2, y2 = current_frame\n",
        "        px1, py1, px2, py2 = previous_frame\n",
        "\n",
        "        width, height = x2 - x1, y2 - y1\n",
        "        p_width, p_height = px2 - px1, py2 - py1\n",
        "\n",
        "        x2_change = x2 - px2\n",
        "        y2_change = y2 - py2\n",
        "        x1_change = x1 - px1\n",
        "        y1_change = y1 - py1\n",
        "\n",
        "        width_change = width - p_width\n",
        "        height_change = height - p_height\n",
        "        area_change = (width * height) - (p_width * p_height)\n",
        "        perimeter_change = (2 * (width + height)) - (2 * (p_width + p_height))\n",
        "\n",
        "        center_x, center_y = (x1 + x2) / 2, (y1 + y2) / 2\n",
        "        p_center_x, p_center_y = (px1 + px2) / 2, (py1 + py2) / 2\n",
        "        center_x_change = center_x - p_center_x\n",
        "        center_y_change = center_y - p_center_y\n",
        "        distance_moved = math.sqrt(center_x_change ** 2 + center_y_change ** 2)\n",
        "\n",
        "        velocity = distance_moved/0.03  # Assuming constant frame rate\n",
        "        p_velocity = (math.sqrt((px2 - px1) ** 2 + (py2 - py1) ** 2))/0.03\n",
        "        acceleration = abs(velocity - p_velocity)\n",
        "\n",
        "        feature_vector = [x1_change, y1_change, x2_change, y2_change,\n",
        "                          center_x_change, center_y_change, distance_moved, velocity, acceleration]\n",
        "        return feature_vector\n",
        "\n",
        "    def normalize_features(self):\n",
        "        all_features = [feature for sequence, _ in self.data for feature in sequence]\n",
        "        all_features = np.array(all_features)\n",
        "        self.mean = np.mean(all_features, axis=0)\n",
        "        self.std = np.std(all_features, axis=0)\n",
        "        for i, (sequence, speed_class) in enumerate(self.data):\n",
        "            normalized_sequence = (sequence - self.mean) / (self.std)\n",
        "            self.data[i] = (normalized_sequence, speed_class)\n",
        "\n",
        "    def __len__(self):\n",
        "        return len(self.data)\n",
        "\n",
        "    def __getitem__(self, idx):\n",
        "        inputs, output = self.data[idx]\n",
        "        if self.augment:\n",
        "            inputs = self.apply_augmentation(inputs)\n",
        "        return torch.tensor(inputs, dtype=torch.float32), torch.tensor(output, dtype=torch.long)\n",
        "\n",
        "    def apply_augmentation(self, inputs):\n",
        "        if random.random() > 0.5:\n",
        "            inputs = self.add_noise(inputs)\n",
        "        if random.random() > 0.5:\n",
        "            inputs = self.time_shift(inputs, shift=random.choice([-1, 1]))\n",
        "        if random.random() > 0.5:\n",
        "            inputs = self.scale_features(inputs, scale=random.uniform(0.9, 1.1))\n",
        "        if random.random() > 0.5:\n",
        "            inputs = self.mirror_features(inputs)\n",
        "        return inputs\n",
        "\n",
        "    def add_noise(self, features, noise_level=0.05):\n",
        "        noise = np.random.normal(0, noise_level, features.shape)\n",
        "        return features + noise\n",
        "\n",
        "    def time_shift(self, features, shift=1):\n",
        "        if shift > 0:\n",
        "            return np.vstack([np.zeros((shift, features.shape[1])), features[:-shift]])\n",
        "        elif shift < 0:\n",
        "            return np.vstack([features[-shift:], np.zeros((-shift, features.shape[1]))])\n",
        "        return features\n",
        "\n",
        "    def scale_features(self, features, scale=1.1):\n",
        "        return features * scale\n",
        "\n",
        "    def mirror_features(self, features):\n",
        "        features_copy = features.copy()\n",
        "        features_copy[:, [0, 2]] = -features_copy[:, [0, 2]]  # Assume these indices are the x-coordinates\n",
        "        return features_copy\n"
      ]
    },
    {
      "cell_type": "code",
      "execution_count": 3,
      "id": "f4295f9e-33ea-49bd-97f5-13d339b22f3c",
      "metadata": {
        "id": "f4295f9e-33ea-49bd-97f5-13d339b22f3c"
      },
      "outputs": [],
      "source": []
    },
    {
      "cell_type": "code",
      "execution_count": 4,
      "id": "b8245562-d2e4-4b96-b02d-1f8e325d625a",
      "metadata": {
        "id": "b8245562-d2e4-4b96-b02d-1f8e325d625a"
      },
      "outputs": [],
      "source": [
        "import torch\n",
        "import torch.nn as nn\n",
        "import torch.nn.functional as F\n",
        "import math\n",
        "\n",
        "class PositionalEncoding(nn.Module):\n",
        "    def __init__(self, d_model, max_len=5000):\n",
        "        super(PositionalEncoding, self).__init__()\n",
        "        self.dropout = nn.Dropout(p=0.1)\n",
        "\n",
        "        pe = torch.zeros(max_len, d_model)\n",
        "        position = torch.arange(0, max_len, dtype=torch.float).unsqueeze(1)\n",
        "        div_term = torch.exp(torch.arange(0, d_model, 2).float() * (-math.log(10000.0) / d_model))\n",
        "        pe[:, 0::2] = torch.sin(position * div_term)\n",
        "        pe[:, 1::2] = torch.cos(position * div_term)\n",
        "        pe = pe.unsqueeze(0).transpose(0, 1)\n",
        "        self.register_buffer('pe', pe)\n",
        "\n",
        "    def forward(self, x):\n",
        "        x = x + self.pe[:x.size(0), :]\n",
        "        return self.dropout(x)\n",
        "\n",
        "class SpeedPredictor(nn.Module):\n",
        "    def __init__(self, sequence_length, feature_size, hidden_dim, output_size):\n",
        "        super(SpeedPredictor, self).__init__()\n",
        "        self.embedding = nn.Conv1d(in_channels=feature_size, out_channels=hidden_dim, kernel_size=1)\n",
        "        self.pos_encoder = PositionalEncoding(hidden_dim)\n",
        "        self.encoder_layer = nn.TransformerEncoderLayer(d_model=hidden_dim, nhead=8, dim_feedforward=hidden_dim * 4, dropout=0.1)\n",
        "        self.transformer_encoder = nn.TransformerEncoder(self.encoder_layer, num_layers=10)\n",
        "        self.fc1 = nn.Linear(hidden_dim, 256)\n",
        "        self.relu = nn.ReLU()\n",
        "        self.dropout = nn.Dropout(0.5)\n",
        "        self.fc2 = nn.Linear(256, output_size)\n",
        "\n",
        "    def forward(self, x):\n",
        "        x = x.permute(0, 2, 1)\n",
        "        x = self.embedding(x)\n",
        "        x = x.permute(0, 2, 1)\n",
        "        x = x.permute(1, 0, 2)\n",
        "        x = self.pos_encoder(x)\n",
        "        x = self.transformer_encoder(x)\n",
        "        x = x.permute(1, 0, 2)  # Switch back to (batch, seq_len, features)\n",
        "        x = x[:, -1, :]  # Only use the last sequence output for prediction\n",
        "        x = self.fc1(x)\n",
        "        x = self.relu(x)\n",
        "        x = self.dropout(x)\n",
        "        x = self.fc2(x)\n",
        "        return x\n",
        "\n",
        "def init_weights(m):\n",
        "    if isinstance(m, nn.Linear):\n",
        "        nn.init.kaiming_normal_(m.weight)\n",
        "        nn.init.constant_(m.bias, 0)\n"
      ]
    },
    {
      "cell_type": "code",
      "execution_count": 5,
      "id": "7aa6932f-cadb-40ca-9f17-a69866cca6c2",
      "metadata": {
        "colab": {
          "base_uri": "https://localhost:8080/"
        },
        "id": "7aa6932f-cadb-40ca-9f17-a69866cca6c2",
        "outputId": "c0f1a375-70ea-4cb4-c56c-620afccb052b"
      },
      "outputs": [
        {
          "output_type": "stream",
          "name": "stdout",
          "text": [
            "Using device: cuda\n"
          ]
        }
      ],
      "source": [
        "import torch\n",
        "\n",
        "# Check for CUDA\n",
        "device = torch.device(\"cuda\" if torch.cuda.is_available() else \"cpu\")\n",
        "print(\"Using device:\", device)\n"
      ]
    },
    {
      "cell_type": "code",
      "source": [],
      "metadata": {
        "id": "qQkatXh1rAiJ"
      },
      "id": "qQkatXh1rAiJ",
      "execution_count": 6,
      "outputs": []
    },
    {
      "cell_type": "code",
      "execution_count": 10,
      "id": "2e9374e2-b8f8-4c42-bf2b-7b02698f7b78",
      "metadata": {
        "id": "2e9374e2-b8f8-4c42-bf2b-7b02698f7b78"
      },
      "outputs": [],
      "source": [
        "\n",
        "def train(model, train_loader, test_loader, criterion, optimizer, scheduler, epochs):\n",
        "    for epoch in range(epochs+1):\n",
        "        model.train()\n",
        "        Train_total_loss = 0\n",
        "        correct_train = 0\n",
        "        total_train = 0\n",
        "\n",
        "        for inputs, targets in train_loader:\n",
        "            inputs, targets = inputs.to(device), targets.to(device)  # Ensure inputs and targets are on the same device as model\n",
        "            optimizer.zero_grad()\n",
        "            outputs = model(inputs)\n",
        "            loss = criterion(outputs, targets)\n",
        "            loss.backward()\n",
        "            optimizer.step()  # First, update the parameters with the current learning rate\n",
        "\n",
        "            Train_total_loss += loss.item()\n",
        "            _, predicted = torch.max(outputs.data, 1)\n",
        "            correct_train += (predicted == targets).sum().item()\n",
        "            total_train += targets.size(0)\n",
        "\n",
        "        scheduler.step()  # After optimizer updates, adjust the learning rate\n",
        "\n",
        "        if epoch % 10 == 0 or epoch == epochs - 1:\n",
        "            model.eval()\n",
        "            correct_test = 0\n",
        "            total_test = 0\n",
        "            total_loss = 0\n",
        "            with torch.no_grad():\n",
        "                for inputs, targets in test_loader:\n",
        "                    inputs, targets = inputs.to(device), targets.to(device)\n",
        "                    outputs = model(inputs)\n",
        "                    loss = criterion(outputs, targets)\n",
        "                    total_loss += loss.item()\n",
        "                    _, predicted = torch.max(outputs.data, 1)\n",
        "                    correct_test += (predicted == targets).sum().item()\n",
        "                    total_test += targets.size(0)\n",
        "\n",
        "            train_accuracy = 100 * correct_train / total_train\n",
        "            test_accuracy = 100 * correct_test / total_test\n",
        "            print(f'Epoch {epoch}: Train Loss: {Train_total_loss / len(train_loader)} Test Loss: {total_loss / len(train_loader)}, '\n",
        "                  f'Train Accuracy: {train_accuracy:.2f}%, Validation Accuracy: {test_accuracy:.2f}%')\n"
      ]
    },
    {
      "cell_type": "code",
      "execution_count": 7,
      "id": "df1be032-2699-4e69-a658-cd9dfba41086",
      "metadata": {
        "colab": {
          "base_uri": "https://localhost:8080/"
        },
        "id": "df1be032-2699-4e69-a658-cd9dfba41086",
        "outputId": "c33cd781-582a-4111-c0a2-11786cfba1f2"
      },
      "outputs": [
        {
          "output_type": "execute_result",
          "data": {
            "text/plain": [
              "6015"
            ]
          },
          "metadata": {},
          "execution_count": 7
        }
      ],
      "source": [
        "import torch\n",
        "from torch.utils.data import DataLoader, random_split\n",
        "from torch.optim import Adam, SGD\n",
        "from torch.optim.lr_scheduler import ExponentialLR\n",
        "\n",
        "# Assuming your SpeedPredictor and SpeedDataset are already defined and imported\n",
        "\n",
        "# Initialize datasets\n",
        "train_dataset = SpeedDataset('./Dataset/Train/', sequence_length=35)\n",
        "test_dataset = SpeedDataset('./Dataset/Test/', sequence_length=35)\n",
        "train_loader = DataLoader(train_dataset, batch_size=64, shuffle=True)\n",
        "test_loader = DataLoader(test_dataset, batch_size=64, shuffle=False)\n",
        "\n",
        "len(train_dataset)\n"
      ]
    },
    {
      "cell_type": "code",
      "execution_count": 8,
      "id": "eee5096d-4700-4c44-acf7-e384ed7a8869",
      "metadata": {
        "id": "eee5096d-4700-4c44-acf7-e384ed7a8869"
      },
      "outputs": [],
      "source": [
        "def extract_labels(data_loader):\n",
        "    labels = []\n",
        "    for _, y in data_loader:\n",
        "        labels.append(y)\n",
        "    return torch.cat(labels)  # Concatenate list of tensors into a single tensor\n",
        "\n",
        "# Extract labels from the training DataLoader\n",
        "train_labels = extract_labels(train_loader)\n",
        "\n",
        "# Compute class weights using sklearn's compute_class_weight\n",
        "from sklearn.utils.class_weight import compute_class_weight\n",
        "\n",
        "# Convert train_labels to a numpy array and calculate class weights\n",
        "class_weights = compute_class_weight(\n",
        "    'balanced',\n",
        "    classes=np.unique(train_labels.numpy()),\n",
        "    y=train_labels.numpy()\n",
        ")\n",
        "\n",
        "# Convert class weights to a tensor\n",
        "class_weights_tensor = torch.tensor(class_weights, dtype=torch.float, device=device)\n"
      ]
    },
    {
      "cell_type": "code",
      "source": [
        "# Model setup\n",
        "max_classes = train_dataset.num_classes\n",
        "model = SpeedPredictor(sequence_length=35, feature_size=9, hidden_dim=128, output_size=max_classes)\n",
        "model.to(device)  # Ensure model is on the appropriate device\n",
        "model.apply(init_weights)\n",
        "# Loss function and optimizer\n",
        "criterion = nn.CrossEntropyLoss(weight=class_weights_tensor).to(device)  # Ensure loss function is on the appropriate device\n",
        "optimizer = Adam(model.parameters(), lr=0.0001)\n",
        "scheduler = ExponentialLR(optimizer, gamma=0.99999999)  # Learning rate scheduler\n",
        "\n",
        "# Train the model\n",
        "train(model, train_loader, test_loader, criterion, optimizer, scheduler, epochs=200)\n"
      ],
      "metadata": {
        "colab": {
          "base_uri": "https://localhost:8080/"
        },
        "id": "mfs3QGUPt6vr",
        "outputId": "cbad2209-c5c7-4f64-eae2-e945f6d67134"
      },
      "id": "mfs3QGUPt6vr",
      "execution_count": 11,
      "outputs": [
        {
          "output_type": "stream",
          "name": "stderr",
          "text": [
            "/usr/local/lib/python3.10/dist-packages/torch/nn/modules/transformer.py:286: UserWarning: enable_nested_tensor is True, but self.use_nested_tensor is False because encoder_layer.self_attn.batch_first was not True(use batch_first for better inference performance)\n",
            "  warnings.warn(f\"enable_nested_tensor is True, but self.use_nested_tensor is False because {why_not_sparsity_fast_path}\")\n"
          ]
        },
        {
          "output_type": "stream",
          "name": "stdout",
          "text": [
            "Epoch 0: Train Loss: 2.473877064725186 Test Loss: 0.17979945020472748, Train Accuracy: 12.64%, Validation Accuracy: 10.27%\n",
            "Epoch 10: Train Loss: 1.2185698449611664 Test Loss: 0.10829263735324779, Train Accuracy: 49.96%, Validation Accuracy: 53.18%\n",
            "Epoch 20: Train Loss: 1.0598575523559084 Test Loss: 0.0784903809111169, Train Accuracy: 55.41%, Validation Accuracy: 53.59%\n",
            "Epoch 30: Train Loss: 0.963682399151173 Test Loss: 0.07464555920438563, Train Accuracy: 59.14%, Validation Accuracy: 60.57%\n",
            "Epoch 40: Train Loss: 0.9384091604263225 Test Loss: 0.06230066050874426, Train Accuracy: 60.91%, Validation Accuracy: 67.56%\n",
            "Epoch 50: Train Loss: 0.923692727976657 Test Loss: 0.07125588807653874, Train Accuracy: 61.06%, Validation Accuracy: 65.09%\n",
            "Epoch 60: Train Loss: 0.8899795932972685 Test Loss: 0.06640198351220881, Train Accuracy: 64.01%, Validation Accuracy: 66.53%\n",
            "Epoch 70: Train Loss: 0.8660660405108269 Test Loss: 0.058026584856053616, Train Accuracy: 64.22%, Validation Accuracy: 71.05%\n",
            "Epoch 80: Train Loss: 0.8797050568651645 Test Loss: 0.0646606537889927, Train Accuracy: 63.46%, Validation Accuracy: 70.02%\n",
            "Epoch 90: Train Loss: 0.8379938837061537 Test Loss: 0.05948963317465275, Train Accuracy: 63.97%, Validation Accuracy: 69.82%\n",
            "Epoch 100: Train Loss: 0.8343122423963344 Test Loss: 0.05950651270277957, Train Accuracy: 64.09%, Validation Accuracy: 71.66%\n",
            "Epoch 110: Train Loss: 0.7868678309815995 Test Loss: 0.05914088703216391, Train Accuracy: 66.47%, Validation Accuracy: 72.28%\n",
            "Epoch 120: Train Loss: 0.7641253071896573 Test Loss: 0.05484444156606147, Train Accuracy: 67.80%, Validation Accuracy: 72.28%\n",
            "Epoch 130: Train Loss: 0.7917540295326964 Test Loss: 0.05827181485105068, Train Accuracy: 66.65%, Validation Accuracy: 74.54%\n",
            "Epoch 140: Train Loss: 0.7828675933340763 Test Loss: 0.049152231596885844, Train Accuracy: 67.32%, Validation Accuracy: 77.62%\n",
            "Epoch 150: Train Loss: 0.770005982606969 Test Loss: 0.057070175383953335, Train Accuracy: 68.69%, Validation Accuracy: 69.20%\n",
            "Epoch 160: Train Loss: 0.7573616780499195 Test Loss: 0.05629237693675021, Train Accuracy: 68.84%, Validation Accuracy: 70.23%\n",
            "Epoch 170: Train Loss: 0.7287571284365146 Test Loss: 0.06557403917008257, Train Accuracy: 69.46%, Validation Accuracy: 70.23%\n",
            "Epoch 180: Train Loss: 0.719683124346936 Test Loss: 0.05684574170315519, Train Accuracy: 69.31%, Validation Accuracy: 75.36%\n",
            "Epoch 190: Train Loss: 0.714374027353652 Test Loss: 0.05329127070751596, Train Accuracy: 70.32%, Validation Accuracy: 74.74%\n",
            "Epoch 199: Train Loss: 0.7161976273389573 Test Loss: 0.049506663007939114, Train Accuracy: 70.07%, Validation Accuracy: 73.72%\n",
            "Epoch 200: Train Loss: 0.7188262612895763 Test Loss: 0.059929728507995605, Train Accuracy: 69.46%, Validation Accuracy: 72.28%\n"
          ]
        }
      ]
    },
    {
      "cell_type": "code",
      "execution_count": 12,
      "id": "14bb4e32-9e8d-4179-9224-6c65ca79665b",
      "metadata": {
        "id": "14bb4e32-9e8d-4179-9224-6c65ca79665b"
      },
      "outputs": [],
      "source": [
        "def print_confusion_matrix_and_report(all_targets, all_preds):\n",
        "    print(confusion_matrix(all_targets, all_preds))\n",
        "    print(classification_report(all_targets, all_preds, target_names=[f'Class {30 + i * 10}-{39 + i * 10}' for i in range(max(all_targets) + 1)]))\n"
      ]
    },
    {
      "cell_type": "code",
      "execution_count": 13,
      "id": "c7bb827a-1680-4e24-96b0-6cca8631c76e",
      "metadata": {
        "colab": {
          "base_uri": "https://localhost:8080/"
        },
        "id": "c7bb827a-1680-4e24-96b0-6cca8631c76e",
        "outputId": "104277fb-c437-403e-c2dd-8475c7976d7c"
      },
      "outputs": [
        {
          "output_type": "stream",
          "name": "stdout",
          "text": [
            "Confusion Matrix and Classification Report:\n",
            "[[78  3  0  0  0  0  0  0]\n",
            " [ 4 75 22  1  0  0  0  0]\n",
            " [ 0  9 62  5  0  0  0  0]\n",
            " [ 0  1 27 53 15  2  0  0]\n",
            " [ 0  0  0  6 42  2  0  0]\n",
            " [ 0  0  0  0 10 31 14  0]\n",
            " [ 0  0  0  0  0  0  0  8]\n",
            " [ 0  0  0  0  0  0  6 11]]\n",
            "               precision    recall  f1-score   support\n",
            "\n",
            "  Class 30-39       0.95      0.96      0.96        81\n",
            "  Class 40-49       0.85      0.74      0.79       102\n",
            "  Class 50-59       0.56      0.82      0.66        76\n",
            "  Class 60-69       0.82      0.54      0.65        98\n",
            "  Class 70-79       0.63      0.84      0.72        50\n",
            "  Class 80-89       0.89      0.56      0.69        55\n",
            "  Class 90-99       0.00      0.00      0.00         8\n",
            "Class 100-109       0.58      0.65      0.61        17\n",
            "\n",
            "     accuracy                           0.72       487\n",
            "    macro avg       0.66      0.64      0.63       487\n",
            " weighted avg       0.77      0.72      0.73       487\n",
            "\n"
          ]
        },
        {
          "output_type": "execute_result",
          "data": {
            "text/plain": [
              "72.27926078028747"
            ]
          },
          "metadata": {},
          "execution_count": 13
        }
      ],
      "source": [
        "from sklearn.metrics import classification_report\n",
        "from sklearn.metrics import confusion_matrix\n",
        "def evaluate(model, test_loader):\n",
        "    model.eval()\n",
        "    correct_test = 0\n",
        "    total_test = 0\n",
        "    all_preds = []\n",
        "    all_targets = []\n",
        "    with torch.no_grad():\n",
        "        for inputs, targets in test_loader:\n",
        "            inputs, targets = inputs.to(device), targets.to(device)  # Ensure inputs and targets are on the same device as model\n",
        "            outputs = model(inputs)\n",
        "            _, predicted = torch.max(outputs.data, 1)\n",
        "            correct_test += (predicted == targets).sum().item()\n",
        "            total_test += targets.size(0)\n",
        "            all_preds.extend(predicted.cpu().numpy())\n",
        "            all_targets.extend(targets.cpu().numpy())\n",
        "\n",
        "    test_accuracy = 100 * correct_test / total_test\n",
        "    print(\"Confusion Matrix and Classification Report:\")\n",
        "    print_confusion_matrix_and_report(all_targets, all_preds)\n",
        "    return test_accuracy\n",
        "evaluate(model, test_loader)"
      ]
    },
    {
      "cell_type": "code",
      "source": [
        "\n"
      ],
      "metadata": {
        "id": "lHk1HAhXs2Ul"
      },
      "id": "lHk1HAhXs2Ul",
      "execution_count": 13,
      "outputs": []
    },
    {
      "cell_type": "code",
      "source": [
        "torch.save(model, 'Transformer_Classification_seq_35.pth')\n"
      ],
      "metadata": {
        "id": "xcLnIXBh_sNo"
      },
      "id": "xcLnIXBh_sNo",
      "execution_count": 14,
      "outputs": []
    },
    {
      "cell_type": "code",
      "source": [],
      "metadata": {
        "id": "HXst2bKo_sqV"
      },
      "id": "HXst2bKo_sqV",
      "execution_count": null,
      "outputs": []
    }
  ],
  "metadata": {
    "kernelspec": {
      "display_name": "Python 3",
      "name": "python3"
    },
    "language_info": {
      "codemirror_mode": {
        "name": "ipython",
        "version": 3
      },
      "file_extension": ".py",
      "mimetype": "text/x-python",
      "name": "python",
      "nbconvert_exporter": "python",
      "pygments_lexer": "ipython3",
      "version": "3.9.0"
    },
    "colab": {
      "provenance": [],
      "machine_shape": "hm",
      "gpuType": "L4",
      "include_colab_link": true
    },
    "accelerator": "GPU"
  },
  "nbformat": 4,
  "nbformat_minor": 5
}