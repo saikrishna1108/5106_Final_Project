{
  "cells": [
    {
      "cell_type": "markdown",
      "metadata": {
        "id": "view-in-github",
        "colab_type": "text"
      },
      "source": [
        "<a href=\"https://colab.research.google.com/github/saikrishna1108/5106_Final_Project/blob/main/Transformer_Classification_with_10_margin_seq_15.ipynb\" target=\"_parent\"><img src=\"https://colab.research.google.com/assets/colab-badge.svg\" alt=\"Open In Colab\"/></a>"
      ]
    },
    {
      "cell_type": "code",
      "source": [
        "import os\n",
        "os.chdir('/content/drive/MyDrive/rtml/5106_Final_Project/5106_Final_Project')"
      ],
      "metadata": {
        "id": "kNBl7NMqrF10"
      },
      "id": "kNBl7NMqrF10",
      "execution_count": 5,
      "outputs": []
    },
    {
      "cell_type": "code",
      "execution_count": 1,
      "id": "450b68b7-329c-4a25-92cf-9dd033b1e484",
      "metadata": {
        "id": "450b68b7-329c-4a25-92cf-9dd033b1e484"
      },
      "outputs": [],
      "source": [
        "import os\n",
        "import torch\n",
        "import numpy as np\n",
        "import random\n",
        "from torch.utils.data import DataLoader, Dataset\n",
        "import math\n",
        "\n",
        "class SpeedDataset(Dataset):\n",
        "    def __init__(self, directory, sequence_length=5, augment=True):\n",
        "        self.data = []\n",
        "        self.sequence_length = sequence_length\n",
        "        self.num_classes = (105 - 30) // 10 + 1  # Speed classes from 30-39, ..., 100-105\n",
        "        self.augment = augment  # Enable or disable augmentation\n",
        "        self.preprocess_data(directory)\n",
        "        self.normalize_features()\n",
        "\n",
        "    def preprocess_data(self, directory):\n",
        "        for filename in os.listdir(directory):\n",
        "            if filename.endswith('.txt'):\n",
        "                speed = float(filename.split('_')[-1].replace('.txt', ''))\n",
        "                speed_class = 0 if speed < 30 else (int(speed) - 30) // 10\n",
        "                filepath = os.path.join(directory, filename)\n",
        "                with open(filepath, 'r') as file:\n",
        "                    track_data = {}\n",
        "                    for line in file:\n",
        "                        points = line.strip().split(',')\n",
        "                        if len(points) == 6:\n",
        "                            frame, track_id, x1, y1, x2, y2 = map(float, line.strip().split(','))\n",
        "                        if len(points) == 7:\n",
        "                            frame,class_id, track_id, x1, y1, x2, y2 = map(float, line.strip().split(','))\n",
        "                        if track_id not in track_data:\n",
        "                            track_data[track_id] = []\n",
        "                        track_data[track_id].append([x1, y1, x2, y2])\n",
        "\n",
        "                    for track_id, frames in track_data.items():\n",
        "                        if len(frames) >= self.sequence_length:\n",
        "                            features = self.extract_features(frames)\n",
        "                            overlap = 5  # Overlap for sequence extraction\n",
        "                            for start_idx in range(0, len(features) - self.sequence_length + 1, self.sequence_length - overlap):\n",
        "                                end_idx = start_idx + self.sequence_length\n",
        "                                sequence = features[start_idx:end_idx]\n",
        "                                self.data.append((sequence, speed_class))\n",
        "\n",
        "    def extract_features(self, frames):\n",
        "        features = []\n",
        "        for i in range(1, len(frames)):\n",
        "            current_frame = frames[i]\n",
        "            previous_frame = frames[i-1]\n",
        "            features.append(self.compute_frame_features(current_frame, previous_frame))\n",
        "        return features\n",
        "\n",
        "    def compute_frame_features(self, current_frame, previous_frame):\n",
        "        x1, y1, x2, y2 = current_frame\n",
        "        px1, py1, px2, py2 = previous_frame\n",
        "\n",
        "        width, height = x2 - x1, y2 - y1\n",
        "        p_width, p_height = px2 - px1, py2 - py1\n",
        "\n",
        "        x2_change = x2 - px2\n",
        "        y2_change = y2 - py2\n",
        "        x1_change = x1 - px1\n",
        "        y1_change = y1 - py1\n",
        "\n",
        "        width_change = width - p_width\n",
        "        height_change = height - p_height\n",
        "        area_change = (width * height) - (p_width * p_height)\n",
        "        perimeter_change = (2 * (width + height)) - (2 * (p_width + p_height))\n",
        "\n",
        "        center_x, center_y = (x1 + x2) / 2, (y1 + y2) / 2\n",
        "        p_center_x, p_center_y = (px1 + px2) / 2, (py1 + py2) / 2\n",
        "        center_x_change = center_x - p_center_x\n",
        "        center_y_change = center_y - p_center_y\n",
        "        distance_moved = math.sqrt(center_x_change ** 2 + center_y_change ** 2)\n",
        "\n",
        "        velocity = distance_moved/0.03  # Assuming constant frame rate\n",
        "        p_velocity = (math.sqrt((px2 - px1) ** 2 + (py2 - py1) ** 2))/0.03\n",
        "        acceleration = abs(velocity - p_velocity)\n",
        "\n",
        "        feature_vector = [x1_change, y1_change, x2_change, y2_change,\n",
        "                          center_x_change, center_y_change, distance_moved, velocity, acceleration]\n",
        "        return feature_vector\n",
        "\n",
        "    def normalize_features(self):\n",
        "        all_features = [feature for sequence, _ in self.data for feature in sequence]\n",
        "        all_features = np.array(all_features)\n",
        "        self.mean = np.mean(all_features, axis=0)\n",
        "        self.std = np.std(all_features, axis=0)\n",
        "        for i, (sequence, speed_class) in enumerate(self.data):\n",
        "            normalized_sequence = (sequence - self.mean) / (self.std)\n",
        "            self.data[i] = (normalized_sequence, speed_class)\n",
        "\n",
        "    def __len__(self):\n",
        "        return len(self.data)\n",
        "\n",
        "    def __getitem__(self, idx):\n",
        "        inputs, output = self.data[idx]\n",
        "        if self.augment:\n",
        "            inputs = self.apply_augmentation(inputs)\n",
        "        return torch.tensor(inputs, dtype=torch.float32), torch.tensor(output, dtype=torch.long)\n",
        "\n",
        "    def apply_augmentation(self, inputs):\n",
        "        if random.random() > 0.5:\n",
        "            inputs = self.add_noise(inputs)\n",
        "        if random.random() > 0.5:\n",
        "            inputs = self.time_shift(inputs, shift=random.choice([-1, 1]))\n",
        "        if random.random() > 0.5:\n",
        "            inputs = self.scale_features(inputs, scale=random.uniform(0.9, 1.1))\n",
        "        if random.random() > 0.5:\n",
        "            inputs = self.mirror_features(inputs)\n",
        "        return inputs\n",
        "\n",
        "    def add_noise(self, features, noise_level=0.05):\n",
        "        noise = np.random.normal(0, noise_level, features.shape)\n",
        "        return features + noise\n",
        "\n",
        "    def time_shift(self, features, shift=1):\n",
        "        if shift > 0:\n",
        "            return np.vstack([np.zeros((shift, features.shape[1])), features[:-shift]])\n",
        "        elif shift < 0:\n",
        "            return np.vstack([features[-shift:], np.zeros((-shift, features.shape[1]))])\n",
        "        return features\n",
        "\n",
        "    def scale_features(self, features, scale=1.1):\n",
        "        return features * scale\n",
        "\n",
        "    def mirror_features(self, features):\n",
        "        features_copy = features.copy()\n",
        "        features_copy[:, [0, 2]] = -features_copy[:, [0, 2]]  # Assume these indices are the x-coordinates\n",
        "        return features_copy\n"
      ]
    },
    {
      "cell_type": "code",
      "execution_count": 1,
      "id": "f4295f9e-33ea-49bd-97f5-13d339b22f3c",
      "metadata": {
        "id": "f4295f9e-33ea-49bd-97f5-13d339b22f3c"
      },
      "outputs": [],
      "source": []
    },
    {
      "cell_type": "code",
      "execution_count": 2,
      "id": "b8245562-d2e4-4b96-b02d-1f8e325d625a",
      "metadata": {
        "id": "b8245562-d2e4-4b96-b02d-1f8e325d625a"
      },
      "outputs": [],
      "source": [
        "import torch\n",
        "import torch.nn as nn\n",
        "import torch.nn.functional as F\n",
        "import math\n",
        "\n",
        "class PositionalEncoding(nn.Module):\n",
        "    def __init__(self, d_model, max_len=5000):\n",
        "        super(PositionalEncoding, self).__init__()\n",
        "        self.dropout = nn.Dropout(p=0.1)\n",
        "\n",
        "        pe = torch.zeros(max_len, d_model)\n",
        "        position = torch.arange(0, max_len, dtype=torch.float).unsqueeze(1)\n",
        "        div_term = torch.exp(torch.arange(0, d_model, 2).float() * (-math.log(10000.0) / d_model))\n",
        "        pe[:, 0::2] = torch.sin(position * div_term)\n",
        "        pe[:, 1::2] = torch.cos(position * div_term)\n",
        "        pe = pe.unsqueeze(0).transpose(0, 1)\n",
        "        self.register_buffer('pe', pe)\n",
        "\n",
        "    def forward(self, x):\n",
        "        x = x + self.pe[:x.size(0), :]\n",
        "        return self.dropout(x)\n",
        "\n",
        "class SpeedPredictor(nn.Module):\n",
        "    def __init__(self, sequence_length, feature_size, hidden_dim, output_size):\n",
        "        super(SpeedPredictor, self).__init__()\n",
        "        self.embedding = nn.Conv1d(in_channels=feature_size, out_channels=hidden_dim, kernel_size=1)\n",
        "        self.pos_encoder = PositionalEncoding(hidden_dim)\n",
        "        self.encoder_layer = nn.TransformerEncoderLayer(d_model=hidden_dim, nhead=8, dim_feedforward=hidden_dim * 4, dropout=0.1)\n",
        "        self.transformer_encoder = nn.TransformerEncoder(self.encoder_layer, num_layers=10)\n",
        "        self.fc1 = nn.Linear(hidden_dim, 256)\n",
        "        self.relu = nn.ReLU()\n",
        "        self.dropout = nn.Dropout(0.5)\n",
        "        self.fc2 = nn.Linear(256, output_size)\n",
        "\n",
        "    def forward(self, x):\n",
        "        x = x.permute(0, 2, 1)\n",
        "        x = self.embedding(x)\n",
        "        x = x.permute(0, 2, 1)\n",
        "        x = x.permute(1, 0, 2)\n",
        "        x = self.pos_encoder(x)\n",
        "        x = self.transformer_encoder(x)\n",
        "        x = x.permute(1, 0, 2)  # Switch back to (batch, seq_len, features)\n",
        "        x = x[:, -1, :]  # Only use the last sequence output for prediction\n",
        "        x = self.fc1(x)\n",
        "        x = self.relu(x)\n",
        "        x = self.dropout(x)\n",
        "        x = self.fc2(x)\n",
        "        return x\n",
        "\n",
        "def init_weights(m):\n",
        "    if isinstance(m, nn.Linear):\n",
        "        nn.init.kaiming_normal_(m.weight)\n",
        "        nn.init.constant_(m.bias, 0)\n"
      ]
    },
    {
      "cell_type": "code",
      "execution_count": 10,
      "id": "7aa6932f-cadb-40ca-9f17-a69866cca6c2",
      "metadata": {
        "colab": {
          "base_uri": "https://localhost:8080/"
        },
        "id": "7aa6932f-cadb-40ca-9f17-a69866cca6c2",
        "outputId": "6e9f0c15-af88-4f6f-bbef-88ed1a4c2bf6"
      },
      "outputs": [
        {
          "output_type": "stream",
          "name": "stdout",
          "text": [
            "Using device: cuda\n"
          ]
        }
      ],
      "source": [
        "import torch\n",
        "\n",
        "# Check for CUDA\n",
        "device = torch.device(\"cuda\" if torch.cuda.is_available() else \"cpu\")\n",
        "print(\"Using device:\", device)\n"
      ]
    },
    {
      "cell_type": "code",
      "source": [],
      "metadata": {
        "colab": {
          "base_uri": "https://localhost:8080/"
        },
        "id": "qQkatXh1rAiJ",
        "outputId": "3f527f65-d443-4a78-edb9-3c0861e966fc"
      },
      "id": "qQkatXh1rAiJ",
      "execution_count": 3,
      "outputs": [
        {
          "output_type": "stream",
          "name": "stdout",
          "text": [
            "Mounted at /content/drive\n"
          ]
        }
      ]
    },
    {
      "cell_type": "code",
      "execution_count": 15,
      "id": "2e9374e2-b8f8-4c42-bf2b-7b02698f7b78",
      "metadata": {
        "id": "2e9374e2-b8f8-4c42-bf2b-7b02698f7b78"
      },
      "outputs": [],
      "source": [
        "\n",
        "def train(model, train_loader, test_loader, criterion, optimizer, scheduler, epochs):\n",
        "    for epoch in range(epochs):\n",
        "        model.train()\n",
        "        Train_total_loss = 0\n",
        "        correct_train = 0\n",
        "        total_train = 0\n",
        "\n",
        "        for inputs, targets in train_loader:\n",
        "            inputs, targets = inputs.to(device), targets.to(device)  # Ensure inputs and targets are on the same device as model\n",
        "            optimizer.zero_grad()\n",
        "            outputs = model(inputs)\n",
        "            loss = criterion(outputs, targets)\n",
        "            loss.backward()\n",
        "            optimizer.step()  # First, update the parameters with the current learning rate\n",
        "\n",
        "            Train_total_loss += loss.item()\n",
        "            _, predicted = torch.max(outputs.data, 1)\n",
        "            correct_train += (predicted == targets).sum().item()\n",
        "            total_train += targets.size(0)\n",
        "\n",
        "        scheduler.step()  # After optimizer updates, adjust the learning rate\n",
        "\n",
        "        if epoch % 5 == 0 or epoch == epochs - 1:\n",
        "            model.eval()\n",
        "            correct_test = 0\n",
        "            total_test = 0\n",
        "            total_loss = 0\n",
        "            with torch.no_grad():\n",
        "                for inputs, targets in test_loader:\n",
        "                    inputs, targets = inputs.to(device), targets.to(device)\n",
        "                    outputs = model(inputs)\n",
        "                    loss = criterion(outputs, targets)\n",
        "                    total_loss += loss.item()\n",
        "                    _, predicted = torch.max(outputs.data, 1)\n",
        "                    correct_test += (predicted == targets).sum().item()\n",
        "                    total_test += targets.size(0)\n",
        "\n",
        "            train_accuracy = 100 * correct_train / total_train\n",
        "            test_accuracy = 100 * correct_test / total_test\n",
        "            print(f'Epoch {epoch+1}: Train Loss: {Train_total_loss / len(train_loader)} Test Loss: {total_loss / len(train_loader)}, '\n",
        "                  f'Train Accuracy: {train_accuracy:.2f}%, Validation Accuracy: {test_accuracy:.2f}%')\n"
      ]
    },
    {
      "cell_type": "code",
      "execution_count": 8,
      "id": "df1be032-2699-4e69-a658-cd9dfba41086",
      "metadata": {
        "colab": {
          "base_uri": "https://localhost:8080/"
        },
        "id": "df1be032-2699-4e69-a658-cd9dfba41086",
        "outputId": "6e4ac9dd-6369-42f8-d9b0-6e9d2637c007"
      },
      "outputs": [
        {
          "output_type": "execute_result",
          "data": {
            "text/plain": [
              "3823"
            ]
          },
          "metadata": {},
          "execution_count": 8
        }
      ],
      "source": [
        "import torch\n",
        "from torch.utils.data import DataLoader, random_split\n",
        "from torch.optim import Adam, SGD\n",
        "from torch.optim.lr_scheduler import ExponentialLR\n",
        "\n",
        "# Assuming your SpeedPredictor and SpeedDataset are already defined and imported\n",
        "\n",
        "# Initialize datasets\n",
        "train_dataset = SpeedDataset('./Dataset/Train/', sequence_length=15)\n",
        "test_dataset = SpeedDataset('./Dataset/Test/', sequence_length=15)\n",
        "train_loader = DataLoader(train_dataset, batch_size=64, shuffle=True)\n",
        "test_loader = DataLoader(test_dataset, batch_size=64, shuffle=False)\n",
        "\n",
        "len(train_dataset)\n"
      ]
    },
    {
      "cell_type": "code",
      "execution_count": 11,
      "id": "eee5096d-4700-4c44-acf7-e384ed7a8869",
      "metadata": {
        "id": "eee5096d-4700-4c44-acf7-e384ed7a8869"
      },
      "outputs": [],
      "source": [
        "def extract_labels(data_loader):\n",
        "    labels = []\n",
        "    for _, y in data_loader:\n",
        "        labels.append(y)\n",
        "    return torch.cat(labels)  # Concatenate list of tensors into a single tensor\n",
        "\n",
        "# Extract labels from the training DataLoader\n",
        "train_labels = extract_labels(train_loader)\n",
        "\n",
        "# Compute class weights using sklearn's compute_class_weight\n",
        "from sklearn.utils.class_weight import compute_class_weight\n",
        "\n",
        "# Convert train_labels to a numpy array and calculate class weights\n",
        "class_weights = compute_class_weight(\n",
        "    'balanced',\n",
        "    classes=np.unique(train_labels.numpy()),\n",
        "    y=train_labels.numpy()\n",
        ")\n",
        "\n",
        "# Convert class weights to a tensor\n",
        "class_weights_tensor = torch.tensor(class_weights, dtype=torch.float, device=device)\n"
      ]
    },
    {
      "cell_type": "code",
      "execution_count": 16,
      "id": "540e8f9d-c4d5-4e2e-9800-875ba4a96c50",
      "metadata": {
        "colab": {
          "base_uri": "https://localhost:8080/"
        },
        "id": "540e8f9d-c4d5-4e2e-9800-875ba4a96c50",
        "outputId": "aa3ed136-7d95-4d6c-b688-50148f96d2d5"
      },
      "outputs": [
        {
          "output_type": "stream",
          "name": "stdout",
          "text": [
            "Epoch 1: Train Loss: 2.6054155429204306 Test Loss: 0.1750391085942586, Train Accuracy: 12.76%, Validation Accuracy: 18.83%\n",
            "Epoch 6: Train Loss: 1.7581575632095336 Test Loss: 0.14619530042012532, Train Accuracy: 29.11%, Validation Accuracy: 23.70%\n",
            "Epoch 11: Train Loss: 1.5252215246359506 Test Loss: 0.10261762539545695, Train Accuracy: 37.14%, Validation Accuracy: 48.70%\n",
            "Epoch 16: Train Loss: 1.429120800892512 Test Loss: 0.11582405765851339, Train Accuracy: 40.62%, Validation Accuracy: 42.86%\n",
            "Epoch 21: Train Loss: 1.3457391142845154 Test Loss: 0.09660096168518066, Train Accuracy: 43.71%, Validation Accuracy: 48.70%\n",
            "Epoch 26: Train Loss: 1.3384902477264404 Test Loss: 0.09619352420171103, Train Accuracy: 43.26%, Validation Accuracy: 49.35%\n",
            "Epoch 31: Train Loss: 1.32274695734183 Test Loss: 0.09318316479523976, Train Accuracy: 43.26%, Validation Accuracy: 48.38%\n",
            "Epoch 36: Train Loss: 1.2897688746452332 Test Loss: 0.08947171171506246, Train Accuracy: 45.30%, Validation Accuracy: 51.95%\n",
            "Epoch 41: Train Loss: 1.2806180576483408 Test Loss: 0.09072648485501607, Train Accuracy: 45.70%, Validation Accuracy: 51.95%\n",
            "Epoch 46: Train Loss: 1.2574239750703176 Test Loss: 0.09177908301353455, Train Accuracy: 46.40%, Validation Accuracy: 51.62%\n",
            "Epoch 51: Train Loss: 1.2645761708418528 Test Loss: 0.09094477395216624, Train Accuracy: 45.36%, Validation Accuracy: 53.57%\n",
            "Epoch 56: Train Loss: 1.2401145309209824 Test Loss: 0.09393600225448609, Train Accuracy: 47.84%, Validation Accuracy: 50.65%\n",
            "Epoch 61: Train Loss: 1.2155747870604197 Test Loss: 0.09146031339963277, Train Accuracy: 48.16%, Validation Accuracy: 51.30%\n",
            "Epoch 66: Train Loss: 1.2265419950087866 Test Loss: 0.08844863871733348, Train Accuracy: 46.69%, Validation Accuracy: 55.84%\n",
            "Epoch 71: Train Loss: 1.2057812909285228 Test Loss: 0.09375242392222087, Train Accuracy: 48.47%, Validation Accuracy: 47.73%\n",
            "Epoch 76: Train Loss: 1.1847639054059982 Test Loss: 0.08598476648330688, Train Accuracy: 50.41%, Validation Accuracy: 53.25%\n",
            "Epoch 81: Train Loss: 1.1934763858715693 Test Loss: 0.09203088879585267, Train Accuracy: 48.57%, Validation Accuracy: 46.75%\n",
            "Epoch 86: Train Loss: 1.2181202491124472 Test Loss: 0.08866684635480244, Train Accuracy: 48.42%, Validation Accuracy: 54.22%\n",
            "Epoch 91: Train Loss: 1.1997186054786046 Test Loss: 0.08639701803525289, Train Accuracy: 48.52%, Validation Accuracy: 53.25%\n",
            "Epoch 96: Train Loss: 1.1803584347168605 Test Loss: 0.09361913601557413, Train Accuracy: 48.10%, Validation Accuracy: 50.00%\n",
            "Epoch 101: Train Loss: 1.1685924937327703 Test Loss: 0.09114522735277812, Train Accuracy: 49.86%, Validation Accuracy: 53.25%\n",
            "Epoch 106: Train Loss: 1.1539860894282659 Test Loss: 0.08535175522168477, Train Accuracy: 51.45%, Validation Accuracy: 55.84%\n",
            "Epoch 111: Train Loss: 1.1653209378321965 Test Loss: 0.09329554239908854, Train Accuracy: 49.75%, Validation Accuracy: 51.62%\n",
            "Epoch 116: Train Loss: 1.1519863992929458 Test Loss: 0.09243875245253245, Train Accuracy: 49.93%, Validation Accuracy: 46.75%\n",
            "Epoch 121: Train Loss: 1.18645083407561 Test Loss: 0.12314938902854919, Train Accuracy: 48.47%, Validation Accuracy: 43.51%\n",
            "Epoch 126: Train Loss: 1.1216956049203872 Test Loss: 0.08708434204260508, Train Accuracy: 51.50%, Validation Accuracy: 52.60%\n",
            "Epoch 131: Train Loss: 1.141465324163437 Test Loss: 0.08905234237511953, Train Accuracy: 50.17%, Validation Accuracy: 50.65%\n",
            "Epoch 136: Train Loss: 1.1265312373638152 Test Loss: 0.08454344769318899, Train Accuracy: 51.16%, Validation Accuracy: 53.25%\n",
            "Epoch 141: Train Loss: 1.1117899010578791 Test Loss: 0.09037398894627889, Train Accuracy: 51.37%, Validation Accuracy: 52.60%\n",
            "Epoch 146: Train Loss: 1.1313612749179205 Test Loss: 0.0881286601225535, Train Accuracy: 51.01%, Validation Accuracy: 55.19%\n",
            "Epoch 151: Train Loss: 1.1147036800781887 Test Loss: 0.0935614933570226, Train Accuracy: 52.03%, Validation Accuracy: 50.97%\n",
            "Epoch 156: Train Loss: 1.1283910234769186 Test Loss: 0.08641275664170583, Train Accuracy: 51.19%, Validation Accuracy: 52.60%\n",
            "Epoch 161: Train Loss: 1.138954609632492 Test Loss: 0.08752841850121816, Train Accuracy: 50.30%, Validation Accuracy: 52.27%\n",
            "Epoch 166: Train Loss: 1.1124131828546524 Test Loss: 0.08567831714948018, Train Accuracy: 51.32%, Validation Accuracy: 57.14%\n",
            "Epoch 171: Train Loss: 1.1479483832915625 Test Loss: 0.0868474950393041, Train Accuracy: 50.01%, Validation Accuracy: 54.87%\n",
            "Epoch 176: Train Loss: 1.0932596296072006 Test Loss: 0.09109931786855062, Train Accuracy: 52.47%, Validation Accuracy: 51.95%\n",
            "Epoch 181: Train Loss: 1.0983974834283192 Test Loss: 0.0881740649541219, Train Accuracy: 52.16%, Validation Accuracy: 51.30%\n",
            "Epoch 186: Train Loss: 1.1313984443744023 Test Loss: 0.08636980851491292, Train Accuracy: 51.61%, Validation Accuracy: 53.57%\n",
            "Epoch 191: Train Loss: 1.0960194836060206 Test Loss: 0.09726978143056234, Train Accuracy: 51.66%, Validation Accuracy: 49.68%\n",
            "Epoch 196: Train Loss: 1.0852070291837057 Test Loss: 0.08598016003767649, Train Accuracy: 53.96%, Validation Accuracy: 51.62%\n",
            "Epoch 200: Train Loss: 1.0765504240989685 Test Loss: 0.09027539094289144, Train Accuracy: 53.75%, Validation Accuracy: 54.22%\n"
          ]
        }
      ],
      "source": [
        "# Model setup\n",
        "max_classes = train_dataset.num_classes\n",
        "model = SpeedPredictor(sequence_length=15, feature_size=9, hidden_dim=128, output_size=max_classes)\n",
        "model.to(device)  # Ensure model is on the appropriate device\n",
        "model.apply(init_weights)\n",
        "# Loss function and optimizer\n",
        "criterion = nn.CrossEntropyLoss(weight=class_weights_tensor).to(device)  # Ensure loss function is on the appropriate device\n",
        "optimizer = Adam(model.parameters(), lr=0.0001)\n",
        "scheduler = ExponentialLR(optimizer, gamma=0.99999999)  # Learning rate scheduler\n",
        "\n",
        "# Train the model\n",
        "train(model, train_loader, test_loader, criterion, optimizer, scheduler, epochs=200)\n"
      ]
    },
    {
      "cell_type": "code",
      "execution_count": 17,
      "id": "14bb4e32-9e8d-4179-9224-6c65ca79665b",
      "metadata": {
        "id": "14bb4e32-9e8d-4179-9224-6c65ca79665b"
      },
      "outputs": [],
      "source": [
        "def print_confusion_matrix_and_report(all_targets, all_preds):\n",
        "    print(confusion_matrix(all_targets, all_preds))\n",
        "    print(classification_report(all_targets, all_preds, target_names=[f'Class {30 + i * 10}-{39 + i * 10}' for i in range(max(all_targets) + 1)]))\n"
      ]
    },
    {
      "cell_type": "code",
      "execution_count": 18,
      "id": "c7bb827a-1680-4e24-96b0-6cca8631c76e",
      "metadata": {
        "colab": {
          "base_uri": "https://localhost:8080/"
        },
        "id": "c7bb827a-1680-4e24-96b0-6cca8631c76e",
        "outputId": "7ecc791b-e1de-44cd-da75-63b210a2843f"
      },
      "outputs": [
        {
          "output_type": "stream",
          "name": "stdout",
          "text": [
            "Confusion Matrix and Classification Report:\n",
            "[[41  3  2  1  0  0  0  0]\n",
            " [10 31 14  0  4  1  1  0]\n",
            " [ 1 11 24  5  3  0  2  0]\n",
            " [ 2  1  7 24  8  6  5  6]\n",
            " [ 0  1  2 10 14  6  1  0]\n",
            " [ 0  0  0  2  5 17  8  7]\n",
            " [ 0  0  0  0  0  0  0  6]\n",
            " [ 0  0  0  0  0  0  0 16]]\n",
            "               precision    recall  f1-score   support\n",
            "\n",
            "  Class 30-39       0.76      0.87      0.81        47\n",
            "  Class 40-49       0.66      0.51      0.57        61\n",
            "  Class 50-59       0.49      0.52      0.51        46\n",
            "  Class 60-69       0.57      0.41      0.48        59\n",
            "  Class 70-79       0.41      0.41      0.41        34\n",
            "  Class 80-89       0.57      0.44      0.49        39\n",
            "  Class 90-99       0.00      0.00      0.00         6\n",
            "Class 100-109       0.46      1.00      0.63        16\n",
            "\n",
            "     accuracy                           0.54       308\n",
            "    macro avg       0.49      0.52      0.49       308\n",
            " weighted avg       0.57      0.54      0.54       308\n",
            "\n"
          ]
        },
        {
          "output_type": "execute_result",
          "data": {
            "text/plain": [
              "54.22077922077922"
            ]
          },
          "metadata": {},
          "execution_count": 18
        }
      ],
      "source": [
        "from sklearn.metrics import classification_report\n",
        "from sklearn.metrics import confusion_matrix\n",
        "def evaluate(model, test_loader):\n",
        "    model.eval()\n",
        "    correct_test = 0\n",
        "    total_test = 0\n",
        "    all_preds = []\n",
        "    all_targets = []\n",
        "    with torch.no_grad():\n",
        "        for inputs, targets in test_loader:\n",
        "            inputs, targets = inputs.to(device), targets.to(device)  # Ensure inputs and targets are on the same device as model\n",
        "            outputs = model(inputs)\n",
        "            _, predicted = torch.max(outputs.data, 1)\n",
        "            correct_test += (predicted == targets).sum().item()\n",
        "            total_test += targets.size(0)\n",
        "            all_preds.extend(predicted.cpu().numpy())\n",
        "            all_targets.extend(targets.cpu().numpy())\n",
        "\n",
        "    test_accuracy = 100 * correct_test / total_test\n",
        "    print(\"Confusion Matrix and Classification Report:\")\n",
        "    print_confusion_matrix_and_report(all_targets, all_preds)\n",
        "    return test_accuracy\n",
        "evaluate(model, test_loader)"
      ]
    },
    {
      "cell_type": "code",
      "source": [],
      "metadata": {
        "id": "lHk1HAhXs2Ul"
      },
      "id": "lHk1HAhXs2Ul",
      "execution_count": null,
      "outputs": []
    }
  ],
  "metadata": {
    "kernelspec": {
      "display_name": "Python 3",
      "name": "python3"
    },
    "language_info": {
      "codemirror_mode": {
        "name": "ipython",
        "version": 3
      },
      "file_extension": ".py",
      "mimetype": "text/x-python",
      "name": "python",
      "nbconvert_exporter": "python",
      "pygments_lexer": "ipython3",
      "version": "3.9.0"
    },
    "colab": {
      "provenance": [],
      "machine_shape": "hm",
      "gpuType": "L4",
      "include_colab_link": true
    },
    "accelerator": "GPU"
  },
  "nbformat": 4,
  "nbformat_minor": 5
}